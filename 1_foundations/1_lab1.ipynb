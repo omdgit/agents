{
 "cells": [
  {
   "cell_type": "markdown",
   "metadata": {},
   "source": [
    "# Welcome to the start of your adventure in Agentic AI"
   ]
  },
  {
   "cell_type": "markdown",
   "metadata": {},
   "source": [
    "<table style=\"margin: 0; text-align: left; width:100%\">\n",
    "    <tr>\n",
    "        <td style=\"width: 150px; height: 150px; vertical-align: middle;\">\n",
    "            <img src=\"../assets/stop.png\" width=\"150\" height=\"150\" style=\"display: block;\" />\n",
    "        </td>\n",
    "        <td>\n",
    "            <h2 style=\"color:#ff7800;\">Are you ready for action??</h2>\n",
    "            <span style=\"color:#ff7800;\">Have you completed all the setup steps in the <a href=\"../setup/\">setup</a> folder?<br/>\n",
    "            Have you read the <a href=\"../README.md\">README</a>? Many common questions are answered here!<br/>\n",
    "            Have you checked out the guides in the <a href=\"../guides/01_intro.ipynb\">guides</a> folder?<br/>\n",
    "            Well in that case, you're ready!!\n",
    "            </span>\n",
    "        </td>\n",
    "    </tr>\n",
    "</table>"
   ]
  },
  {
   "cell_type": "markdown",
   "metadata": {},
   "source": [
    "<table style=\"margin: 0; text-align: left; width:100%\">\n",
    "    <tr>\n",
    "        <td style=\"width: 150px; height: 150px; vertical-align: middle;\">\n",
    "            <img src=\"../assets/tools.png\" width=\"150\" height=\"150\" style=\"display: block;\" />\n",
    "        </td>\n",
    "        <td>\n",
    "            <h2 style=\"color:#00bfff;\">This code is a live resource - keep an eye out for my updates</h2>\n",
    "            <span style=\"color:#00bfff;\">I push updates regularly. As people ask questions or have problems, I add more examples and improve explanations. As a result, the code below might not be identical to the videos, as I've added more steps and better comments. Consider this like an interactive book that accompanies the lectures.<br/><br/>\n",
    "            I try to send emails regularly with important updates related to the course. You can find this in the 'Announcements' section of Udemy in the left sidebar. You can also choose to receive my emails via your Notification Settings in Udemy. I'm respectful of your inbox and always try to add value with my emails!\n",
    "            </span>\n",
    "        </td>\n",
    "    </tr>\n",
    "</table>"
   ]
  },
  {
   "cell_type": "markdown",
   "metadata": {},
   "source": [
    "### And please do remember to contact me if I can help\n",
    "\n",
    "And I love to connect: https://www.linkedin.com/in/eddonner/\n",
    "\n",
    "\n",
    "### New to Notebooks like this one? Head over to the guides folder!\n",
    "\n",
    "Just to check you've already added the Python and Jupyter extensions to Cursor, if not already installed:\n",
    "- Open extensions (View >> extensions)\n",
    "- Search for python, and when the results show, click on the ms-python one, and Install it if not already installed\n",
    "- Search for jupyter, and when the results show, click on the Microsoft one, and Install it if not already installed  \n",
    "Then View >> Explorer to bring back the File Explorer.\n",
    "\n",
    "And then:\n",
    "1. Click where it says \"Select Kernel\" near the top right, and select the option called `.venv (Python 3.12.9)` or similar, which should be the first choice or the most prominent choice. You may need to choose \"Python Environments\" first.\n",
    "2. Click in each \"cell\" below, starting with the cell immediately below this text, and press Shift+Enter to run\n",
    "3. Enjoy!\n",
    "\n",
    "After you click \"Select Kernel\", if there is no option like `.venv (Python 3.12.9)` then please do the following:  \n",
    "1. On Mac: From the Cursor menu, choose Settings >> VS Code Settings (NOTE: be sure to select `VSCode Settings` not `Cursor Settings`);  \n",
    "On Windows PC: From the File menu, choose Preferences >> VS Code Settings(NOTE: be sure to select `VSCode Settings` not `Cursor Settings`)  \n",
    "2. In the Settings search bar, type \"venv\"  \n",
    "3. In the field \"Path to folder with a list of Virtual Environments\" put the path to the project root, like C:\\Users\\username\\projects\\agents (on a Windows PC) or /Users/username/projects/agents (on Mac or Linux).  \n",
    "And then try again.\n",
    "\n",
    "Having problems with missing Python versions in that list? Have you ever used Anaconda before? It might be interferring. Quit Cursor, bring up a new command line, and make sure that your Anaconda environment is deactivated:    \n",
    "`conda deactivate`  \n",
    "And if you still have any problems with conda and python versions, it's possible that you will need to run this too:  \n",
    "`conda config --set auto_activate_base false`  \n",
    "and then from within the Agents directory, you should be able to run `uv python list` and see the Python 3.12 version."
   ]
  },
  {
   "cell_type": "code",
   "execution_count": 2,
   "metadata": {},
   "outputs": [],
   "source": [
    "# First let's do an import. If you get an Import Error, double check that your Kernel is correct..\n",
    "\n",
    "from dotenv import load_dotenv\n"
   ]
  },
  {
   "cell_type": "code",
   "execution_count": 3,
   "metadata": {},
   "outputs": [
    {
     "data": {
      "text/plain": [
       "True"
      ]
     },
     "execution_count": 3,
     "metadata": {},
     "output_type": "execute_result"
    }
   ],
   "source": [
    "# Next it's time to load the API keys into environment variables\n",
    "# If this returns false, see the next cell!\n",
    "\n",
    "load_dotenv(override=True)"
   ]
  },
  {
   "cell_type": "markdown",
   "metadata": {},
   "source": [
    "### Wait, did that just output `False`??\n",
    "\n",
    "If so, the most common reason is that you didn't save your `.env` file after adding the key! Be sure to have saved.\n",
    "\n",
    "Also, make sure the `.env` file is named precisely `.env` and is in the project root directory (`agents`)\n",
    "\n",
    "By the way, your `.env` file should have a stop symbol next to it in Cursor on the left, and that's actually a good thing: that's Cursor saying to you, \"hey, I realize this is a file filled with secret information, and I'm not going to send it to an external AI to suggest changes, because your keys should not be shown to anyone else.\""
   ]
  },
  {
   "cell_type": "markdown",
   "metadata": {},
   "source": [
    "<table style=\"margin: 0; text-align: left; width:100%\">\n",
    "    <tr>\n",
    "        <td style=\"width: 150px; height: 150px; vertical-align: middle;\">\n",
    "            <img src=\"../assets/stop.png\" width=\"150\" height=\"150\" style=\"display: block;\" />\n",
    "        </td>\n",
    "        <td>\n",
    "            <h2 style=\"color:#ff7800;\">Final reminders</h2>\n",
    "            <span style=\"color:#ff7800;\">1. If you're not confident about Environment Variables or Web Endpoints / APIs, please read Topics 3 and 5 in this <a href=\"../guides/04_technical_foundations.ipynb\">technical foundations guide</a>.<br/>\n",
    "            2. If you want to use AIs other than OpenAI, like Gemini, DeepSeek or Ollama (free), please see the first section in this <a href=\"../guides/09_ai_apis_and_ollama.ipynb\">AI APIs guide</a>.<br/>\n",
    "            3. If you ever get a Name Error in Python, you can always fix it immediately; see the last section of this <a href=\"../guides/06_python_foundations.ipynb\">Python Foundations guide</a> and follow both tutorials and exercises.<br/>\n",
    "            </span>\n",
    "        </td>\n",
    "    </tr>\n",
    "</table>"
   ]
  },
  {
   "cell_type": "code",
   "execution_count": 4,
   "metadata": {},
   "outputs": [
    {
     "name": "stdout",
     "output_type": "stream",
     "text": [
      "OpenAI API Key exists and begins sk-5okwQ\n"
     ]
    }
   ],
   "source": [
    "# Check the key - if you're not using OpenAI, check whichever key you're using! Ollama doesn't need a key.\n",
    "\n",
    "import os\n",
    "openai_api_key = os.getenv('OPENAI_API_KEY')\n",
    "\n",
    "if openai_api_key:\n",
    "    print(f\"OpenAI API Key exists and begins {openai_api_key[:8]}\")\n",
    "else:\n",
    "    print(\"OpenAI API Key not set - please head to the troubleshooting guide in the setup folder\")\n",
    "    \n"
   ]
  },
  {
   "cell_type": "code",
   "execution_count": 5,
   "metadata": {},
   "outputs": [],
   "source": [
    "# And now - the all important import statement\n",
    "# If you get an import error - head over to troubleshooting in the Setup folder\n",
    "\n",
    "from openai import OpenAI"
   ]
  },
  {
   "cell_type": "code",
   "execution_count": 6,
   "metadata": {},
   "outputs": [],
   "source": [
    "# And now we'll create an instance of the OpenAI class\n",
    "# If you're not sure what it means to create an instance of a class - head over to the guides folder (guide 6)!\n",
    "# If you get a NameError - head over to the guides folder (guide 6)to learn about NameErrors - always instantly fixable\n",
    "# If you're not using OpenAI, you just need to slightly modify this - precise instructions are in the AI APIs guide (guide 9)\n",
    "\n",
    "openai = OpenAI()"
   ]
  },
  {
   "cell_type": "code",
   "execution_count": 7,
   "metadata": {},
   "outputs": [
    {
     "name": "stdout",
     "output_type": "stream",
     "text": [
      "Why don't scientists trust atoms?\n",
      "\n",
      "Because they make up everything!\n"
     ]
    }
   ],
   "source": [
    "messages = [{\"role\": \"system\", \"content\": \"Tell me a joke.\"}]\n",
    "\n",
    "response = openai.chat.completions.create(\n",
    "    model=\"gpt-4o-mini\",\n",
    "    messages=messages\n",
    ")\n",
    "\n",
    "print(response.choices[0].message.content)"
   ]
  },
  {
   "cell_type": "code",
   "execution_count": 8,
   "metadata": {},
   "outputs": [],
   "source": [
    "# Create a list of messages in the familiar OpenAI format\n",
    "\n",
    "messages = [{\"role\": \"user\", \"content\": \"What is 2+2?\"}]"
   ]
  },
  {
   "cell_type": "code",
   "execution_count": 7,
   "metadata": {},
   "outputs": [
    {
     "name": "stdout",
     "output_type": "stream",
     "text": [
      "2 + 2 equals 4.\n"
     ]
    }
   ],
   "source": [
    "# And now call it! Any problems, head to the troubleshooting guide\n",
    "# This uses GPT 4.1 nano, the incredibly cheap model\n",
    "# The APIs guide (guide 9) has exact instructions for using even cheaper or free alternatives to OpenAI\n",
    "# If you get a NameError, head to the guides folder (guide 6) to learn about NameErrors - always instantly fixable\n",
    "\n",
    "response = openai.chat.completions.create(\n",
    "    model=\"gpt-4.1-nano\",\n",
    "    messages=messages\n",
    ")\n",
    "\n",
    "print(response.choices[0].message.content)\n"
   ]
  },
  {
   "cell_type": "code",
   "execution_count": 10,
   "metadata": {},
   "outputs": [],
   "source": [
    "# And now - let's ask for a question:\n",
    "\n",
    "question = \"Please propose a hard, challenging question to assess someone's IQ. Respond only with the question.\"\n",
    "messages = [{\"role\": \"user\", \"content\": question}]\n"
   ]
  },
  {
   "cell_type": "code",
   "execution_count": 11,
   "metadata": {},
   "outputs": [
    {
     "name": "stdout",
     "output_type": "stream",
     "text": [
      "If it takes 5 machines 5 minutes to make 5 widgets, how long would it take 100 machines to make 100 widgets?\n"
     ]
    }
   ],
   "source": [
    "# ask it - this uses GPT 4.1 mini, still cheap but more powerful than nano\n",
    "\n",
    "response = openai.chat.completions.create(\n",
    "    model=\"gpt-4.1-mini\",\n",
    "    messages=messages\n",
    ")\n",
    "\n",
    "question = response.choices[0].message.content\n",
    "\n",
    "print(question)\n"
   ]
  },
  {
   "cell_type": "code",
   "execution_count": 16,
   "metadata": {},
   "outputs": [],
   "source": [
    "# form a new messages list\n",
    "messages = [{\"role\": \"user\", \"content\": question}]\n"
   ]
  },
  {
   "cell_type": "code",
   "execution_count": 17,
   "metadata": {},
   "outputs": [
    {
     "name": "stdout",
     "output_type": "stream",
     "text": [
      "If 5 machines take 5 minutes to make 5 widgets, then:\n",
      "\n",
      "- Each machine makes 1 widget in 5 minutes (because 5 machines make 5 widgets in 5 minutes).\n",
      "- Therefore, 1 machine makes 1 widget in 5 minutes.\n",
      "\n",
      "Now, if you have 100 machines working simultaneously:\n",
      "\n",
      "- Each machine makes 1 widget in 5 minutes.\n",
      "- So 100 machines will make 100 widgets in 5 minutes.\n",
      "\n",
      "**Answer: It will take 100 machines 5 minutes to make 100 widgets.**\n"
     ]
    }
   ],
   "source": [
    "# Ask it again\n",
    "\n",
    "response = openai.chat.completions.create(\n",
    "    model=\"gpt-4.1-mini\",\n",
    "    messages=messages\n",
    ")\n",
    "\n",
    "answer = response.choices[0].message.content\n",
    "\n",
    "print(answer)\n"
   ]
  },
  {
   "cell_type": "code",
   "execution_count": 9,
   "metadata": {},
   "outputs": [
    {
     "ename": "NameError",
     "evalue": "name 'answer' is not defined",
     "output_type": "error",
     "traceback": [
      "\u001b[31m---------------------------------------------------------------------------\u001b[39m",
      "\u001b[31mNameError\u001b[39m                                 Traceback (most recent call last)",
      "\u001b[36mCell\u001b[39m\u001b[36m \u001b[39m\u001b[32mIn[9]\u001b[39m\u001b[32m, line 3\u001b[39m\n\u001b[32m      1\u001b[39m \u001b[38;5;28;01mfrom\u001b[39;00m\u001b[38;5;250m \u001b[39m\u001b[34;01mIPython\u001b[39;00m\u001b[34;01m.\u001b[39;00m\u001b[34;01mdisplay\u001b[39;00m\u001b[38;5;250m \u001b[39m\u001b[38;5;28;01mimport\u001b[39;00m Markdown, display\n\u001b[32m----> \u001b[39m\u001b[32m3\u001b[39m display(Markdown(\u001b[43manswer\u001b[49m))\n",
      "\u001b[31mNameError\u001b[39m: name 'answer' is not defined"
     ]
    }
   ],
   "source": [
    "from IPython.display import Markdown, display\n",
    "\n",
    "display(Markdown(answer))\n",
    "\n"
   ]
  },
  {
   "cell_type": "markdown",
   "metadata": {},
   "source": [
    "# Congratulations!\n",
    "\n",
    "That was a small, simple step in the direction of Agentic AI, with your new environment!\n",
    "\n",
    "Next time things get more interesting..."
   ]
  },
  {
   "cell_type": "code",
   "execution_count": null,
   "metadata": {},
   "outputs": [
    {
     "data": {
      "text/markdown": [
       "I'm unable to provide real-time data or current market information, including the S&P 500's closing price or performance for today, as my training only includes information up until October 2023 and I do not have access to live data.\n",
       "\n",
       "However, you can easily find the latest S&P 500 closing price and its performance by checking financial news websites, stock market apps, or financial television channels.\n",
       "\n",
       "To create a plot of the S&P 500 performance over the last 10 days, you would typically retrieve historical data from a source like Yahoo Finance or another financial data provider and use a programming language like Python along with libraries such as Matplotlib or pandas for visualization.\n",
       "\n",
       "Here’s an example of how to do this in Python:\n",
       "\n",
       "```python\n",
       "import pandas as pd\n",
       "import matplotlib.pyplot as plt\n",
       "\n",
       "# Example: Download S&P 500 data for the last 10 days\n",
       "# You can use libraries like yfinance to get the data\n",
       "import yfinance as yf\n",
       "\n",
       "# Fetch the S&P 500 data for the last 10 days\n",
       "ticker = \"^GSPC\"  # S&P 500 index symbol\n",
       "data = yf.download(ticker, period=\"10d\")\n",
       "\n",
       "# Plotting the closing price\n",
       "plt.figure(figsize=(10, 5))\n",
       "plt.plot(data.index, data['Close'], marker='o')\n",
       "plt.title('S&P 500 Performance Over the Last 10 Days')\n",
       "plt.xlabel('Date')\n",
       "plt.ylabel('Closing Price')\n",
       "plt.grid()\n",
       "plt.xticks(rotation=45)\n",
       "plt.tight_layout()\n",
       "plt.show()\n",
       "```\n",
       "\n",
       "Make sure to install the necessary packages (`pandas`, `matplotlib`, and `yfinance`) if you haven't done so already. This code snippet will visualize the S&P 500 closing prices for the last 10 trading days."
      ],
      "text/plain": [
       "<IPython.core.display.Markdown object>"
      ]
     },
     "metadata": {},
     "output_type": "display_data"
    }
   ],
   "source": [
    "messages = [{\"role\": \"system\", \"content\": \"What was today's S&P 500 closing price and performance?  Also, create a plot of the S&P 500 performance over the last 10 days.\"}]\n",
    "\n",
    "response = openai.chat.completions.create(\n",
    "    model=\"gpt-4o-mini\",\n",
    "    messages=messages\n",
    ")\n",
    "\n",
    "answer = response.choices[0].message.content\n",
    "\n",
    "display(Markdown(answer))"
   ]
  },
  {
   "cell_type": "code",
   "execution_count": 11,
   "metadata": {},
   "outputs": [
    {
     "name": "stderr",
     "output_type": "stream",
     "text": [
      "/var/folders/5d/4vzdwckn4fqgnfhszkpm8mzm0000gn/T/ipykernel_88158/2246356545.py:11: FutureWarning: YF.download() has changed argument auto_adjust default to True\n",
      "  data = yf.download(ticker, period=f\"{days}d\")\n",
      "[*********************100%***********************]  1 of 1 completed\n"
     ]
    },
    {
     "data": {
      "image/png": "[encoded data removed]",
      "text/plain": [
       "<Figure size 1000x500 with 1 Axes>"
      ]
     },
     "metadata": {},
     "output_type": "display_data"
    }
   ],
   "source": [
    "import pandas as pd\n",
    "import matplotlib.pyplot as plt\n",
    "\n",
    "# Example: Download S&P 500 data for the last 10 days\n",
    "# You can use libraries like yfinance to get the data\n",
    "import yfinance as yf\n",
    "\n",
    "# Fetch the S&P 500 data for the last 10 days\n",
    "ticker = \"^GSPC\"  # S&P 500 index symbol\n",
    "days = 30\n",
    "data = yf.download(ticker, period=f\"{days}d\")\n",
    "\n",
    "# Plotting the closing price\n",
    "plt.figure(figsize=(10, 5))\n",
    "plt.plot(data.index, data['Close'], marker='o')\n",
    "plt.title(f'S&P 500 Performance Over the Last {days} Days')\n",
    "plt.xlabel('Date')\n",
    "plt.ylabel('Closing Price')\n",
    "plt.grid()\n",
    "plt.xticks(rotation=45)\n",
    "plt.tight_layout()\n",
    "plt.show()"
   ]
  },
  {
   "cell_type": "markdown",
   "metadata": {},
   "source": [
    "<table style=\"margin: 0; text-align: left; width:100%\">\n",
    "    <tr>\n",
    "        <td style=\"width: 150px; height: 150px; vertical-align: middle;\">\n",
    "            <img src=\"../assets/exercise.png\" width=\"150\" height=\"150\" style=\"display: block;\" />\n",
    "        </td>\n",
    "        <td>\n",
    "            <h2 style=\"color:#ff7800;\">Exercise</h2>\n",
    "            <span style=\"color:#ff7800;\">Now try this commercial application:<br/>\n",
    "            First ask the LLM to pick a business area that might be worth exploring for an Agentic AI opportunity.<br/>\n",
    "            Then ask the LLM to present a pain-point in that industry - something challenging that might be ripe for an Agentic solution.<br/>\n",
    "            Finally have 3 third LLM call propose the Agentic AI solution. <br/>\n",
    "            We will cover this at up-coming labs, so don't worry if you're unsure.. just give it a try!\n",
    "            </span>\n",
    "        </td>\n",
    "    </tr>\n",
    "</table>"
   ]
  },
  {
   "cell_type": "markdown",
   "metadata": {},
   "source": [
    "## Idea 1 - AI for Transaction Monitoring"
   ]
  },
  {
   "cell_type": "code",
   "execution_count": 26,
   "metadata": {},
   "outputs": [
    {
     "data": {
      "text/markdown": [
       "Reducing false positives in transaction monitoring for BSA/AML (Bank Secrecy Act/Anti-Money Laundering) is a common and important challenge. Traditional rule-based systems tend to generate a large volume of alerts, many of which are false positives, causing operational inefficiency and analyst fatigue.\n",
       "\n",
       "Here’s a high-level approach to building a model to reduce false positives in transaction monitoring:\n",
       "\n",
       "### 1. Understand the Data and Current System\n",
       "- **Gather data**: Collect historical transaction data, alerts generated by existing systems, and analyst investigation outcomes (true/false positives).\n",
       "- **Label quality**: The key is having high-quality labels indicating which alerts were true suspicious cases and which were false positives.\n",
       "- **Feature Engineering**: Extract meaningful features from transactions such as:\n",
       "  - Transaction amount, frequency, velocity.\n",
       "  - Customer profiles (e.g., risk scores, account type, location).\n",
       "  - Transaction metadata (counterparty info, channel used).\n",
       "  - Historical alert patterns.\n",
       "\n",
       "### 2. Define the Problem\n",
       "- You can frame this as a **binary classification problem**: predict whether an alert is a true positive (suspicious) or false positive.\n",
       "- Alternatively, use **ranking models** or **anomaly scores** to prioritize alerts.\n",
       "\n",
       "### 3. Model Approaches\n",
       "- **Supervised ML Models**:\n",
       "  - Logistic Regression, Random Forest, Gradient Boosted Trees (XGBoost, LightGBM).\n",
       "  - Deep learning methods if data is large and complex (e.g., tabular feed-forward networks).\n",
       "- **Unsupervised / Semi-supervised approaches**:\n",
       "  - If labeled data is limited, consider clustering or anomaly detection methods (e.g., Isolation Forest, Autoencoders).\n",
       "- **Hybrid approach**:\n",
       "  - Combine the current rule-based alerts with a model predicting false positives to filter alerts.\n",
       "\n",
       "### 4. Model Training and Validation\n",
       "- Use cross-validation or time-split validation (important in time series / transactional data).\n",
       "- Metrics: Prioritize precision on suspicious alerts (reduce false positives) while maintaining an acceptable recall to avoid missing true suspicious activity.\n",
       "- Consider cost-sensitive learning or customized loss functions to penalize false negatives more.\n",
       "\n",
       "### 5. Explainability & Compliance\n",
       "- AML models must be explainable to comply with regulations.\n",
       "- Use interpretable models or SHAP/LIME to explain predictions.\n",
       "  \n",
       "### 6. Integration and Feedback Loop\n",
       "- Integrate the model output with existing AML systems.\n",
       "- Set a threshold to filter alerts or prioritize investigations.\n",
       "- Establish a feedback loop with AML analysts to continuously improve model performance with new data.\n",
       "\n",
       "---\n",
       "\n",
       "### Example Workflow\n",
       "\n",
       "1. **Data Preparation**\n",
       "   - Historical transactions + alert flags + analyst labels.\n",
       "2. **Feature Engineering**\n",
       "3. **Train model**\n",
       "4. **Evaluate using Precision/Recall and False Positive Rate**\n",
       "5. **Deploy with an alert scoring system**\n",
       "6. **Monitor and retrain periodically**\n",
       "\n",
       "---\n",
       "\n",
       "If you want, I can help you with example code snippets, features to consider, or more detailed modeling advice!"
      ],
      "text/plain": [
       "<IPython.core.display.Markdown object>"
      ]
     },
     "metadata": {},
     "output_type": "display_data"
    },
    {
     "data": {
      "text/markdown": [
       "Agentic AI—AI systems designed with autonomous decision-making capabilities—can significantly enhance the reduction of false positives in transaction monitoring for BSA/AML compliance by managing complex workflows, learning dynamically from analyst feedback, and adapting alert thresholds in near real-time. Here’s how agentic AI can be integrated into the approach you outlined, improving effectiveness and efficiency:\n",
       "\n",
       "---\n",
       "\n",
       "## How Agentic AI Helps Reduce False Positives in AML Transaction Monitoring\n",
       "\n",
       "### 1. **Autonomous Data Handling and Feature Engineering**\n",
       "- **Agentic AI can autonomously collect, preprocess, and augment data**, pulling from multiple sources (transactions, customer profiles, external watchlists) without manual intervention.\n",
       "- It can **generate, test, and refine feature sets**, exploring combinations or transformations (e.g., temporal features, behavioral aggregates) more rapidly than manual feature engineering.\n",
       "\n",
       "### 2. **Adaptive Model Training & Selection**\n",
       "- Rather than static models, agentic AI can **continuously train and evaluate multiple candidate models** in the background, identifying best-performing algorithms and feature sets over time.\n",
       "- It can **auto-tune hyperparameters** and adjust thresholds optimized around organizational needs, for example, balancing precision/recall depending on current risk appetite or regulatory changes.\n",
       "\n",
       "### 3. **Intelligent Alert Triage and Prioritization**\n",
       "- Agentic AI can **score alerts dynamically**, incorporating uncertainty estimates and confidence intervals.\n",
       "- It can **assign priorities to alerts for analysts based on risk scores and historical analyst decisions**, focusing human effort where the model’s uncertainty is higher or the risk is elevated.\n",
       "- Implement **automated filtering agents** that suppress or group low-risk false positives, reducing alert fatigue.\n",
       "\n",
       "### 4. **Explainability and Compliance Integration**\n",
       "- Agentic systems can **generate on-demand explanations for each flagged alert**, extracting SHAP/LIME or natural language explanations that analysts or auditors can consume.\n",
       "- By monitoring regulatory updates automatically, agentic AI can **adjust interpretability parameters** ensuring models meet compliance requirements without manual rework.\n",
       "\n",
       "### 5. **Analyst Feedback and Active Learning Loop**\n",
       "- Automated agents can **interact with AML analysts, gathering feedback on alerts and investigations**—essentially an active learning framework where the model is continuously fine-tuned based on new labels.\n",
       "- This feedback loop can be used by the agent to **identify weaknesses or biases in the model**, prompting retraining or rebalancing of classes.\n",
       "\n",
       "### 6. **Workflow Orchestration and Integration**\n",
       "- Agentic AI can orchestrate the **end-to-end AML workflow**:\n",
       "  - Data ingestion → Model scoring → Alert prioritization → Analyst assignment → Feedback collection → Model update.\n",
       "- It can **detect and respond to anomalies or system failures autonomously**, ensuring robustness and minimal downtime.\n",
       "\n",
       "---\n",
       "\n",
       "## Example of an Agentic AI Workflow Applied to AML False Positive Reduction\n",
       "\n",
       "| Step              | Agentic AI Role                                   |\n",
       "|-------------------|--------------------------------------------------|\n",
       "| Data Ingestion    | Auto-scrapes, validates, and merges datasets      |\n",
       "| Feature Engineering | Evaluates numerous engineered features autonomously |\n",
       "| Model Selection    | Trains multiple models, selects best based on metrics |\n",
       "| Alert Scoring      | Generates risk scores with confidence intervals   |\n",
       "| Alert Filtering    | Automatically suppresses likely false positives   |\n",
       "| Analyst Interaction| Requests clarifications, collects label feedback  |\n",
       "| Retraining        | Periodically retrains and deploys updated models  |\n",
       "| Compliance Report  | Generates audit-ready explanations and reports    |\n",
       "\n",
       "---\n",
       "\n",
       "## Benefits of Agentic AI in AML False Positive Reduction\n",
       "\n",
       "- **Scalability:** Easily handles growing transaction volumes and more complex data without proportional analyst burden.\n",
       "- **Responsiveness:** Quickly adapts to new fraud typologies or regulatory changes.\n",
       "- **Reduced Analyst Fatigue:** By automating low-value triage tasks.\n",
       "- **Improved Precision:** Data-driven and context-aware alert filtering reduces false positives.\n",
       "- **Enhanced Compliance:** Transparency and explainability integrated into the workflow.\n",
       "\n",
       "---\n",
       "\n",
       "If you want, I can also help you design an architecture diagram or provide specific pseudo-code or libraries suitable for implementing an agentic AI system in this context. Would you like that?"
      ],
      "text/plain": [
       "<IPython.core.display.Markdown object>"
      ]
     },
     "metadata": {},
     "output_type": "display_data"
    }
   ],
   "source": [
    "# First create the messages:\n",
    "\n",
    "messages = [{\"role\": \"user\", \"content\": \"Transaction monitoring models in the BSA/AML space result in a lot of false positives. I want to build a model that can help reduce the number of false positives.\"}]\n",
    "\n",
    "# Then make the first call:\n",
    "\n",
    "response = openai.chat.completions.create(\n",
    "    model=\"gpt-4.1-mini\",\n",
    "    messages=messages\n",
    ")\n",
    "\n",
    "answer = response.choices[0].message.content\n",
    "\n",
    "display(Markdown(answer))\n",
    "\n",
    "# Then read the business idea:\n",
    "\n",
    "business_idea = answer\n",
    "\n",
    "# And repeat! In the next message, include the business idea within the message\n",
    "\n",
    "messages = [{\"role\": \"user\", \"content\": f\"How can agentic AI be used to help with {business_idea}?\"}]\n",
    "\n",
    "response = openai.chat.completions.create(\n",
    "    model=\"gpt-4.1-mini\",\n",
    "    messages=messages\n",
    ")\n",
    "\n",
    "display(Markdown(response.choices[0].message.content))"
   ]
  },
  {
   "cell_type": "markdown",
   "metadata": {},
   "source": [
    "## Second Idea - Agentic AI for Day Trading"
   ]
  },
  {
   "cell_type": "code",
   "execution_count": 27,
   "metadata": {},
   "outputs": [
    {
     "data": {
      "text/markdown": [
       "Great question! You’re starting with a solid foundation by focusing first on a well-known day trading strategy (David Green's) before advancing to more complex AI approaches like Deep Reinforcement Learning. Leveraging **agentic AI** can help you speed up, optimize, and even automate parts of your day trading workflow on Alpaca.\n",
       "\n",
       "### What is Agentic AI in This Context?\n",
       "\n",
       "Agentic AI refers to autonomous software agents that can perceive their environment, make decisions, and act to achieve specific goals with minimal human intervention. In trading, this can mean an AI that:\n",
       "\n",
       "- Monitors market data in real time.\n",
       "- Executes trades based on a defined strategy.\n",
       "- Adjusts parameters dynamically based on feedback.\n",
       "- Learns from successes/failures without you manually tweaking everything.\n",
       "\n",
       "---\n",
       "\n",
       "### How Agentic AI Can Help You Implement David Green’s Day Trading Strategy on Alpaca\n",
       "\n",
       "David Green’s strategy is rule-based and focuses on momentum and breakout trading techniques. Here’s how you can use agentic AI to support these steps:\n",
       "\n",
       "#### 1. **Automate Data Collection and Signal Generation**\n",
       "- Use an AI agent to continuously stream market data from Alpaca’s API.\n",
       "- Implement technical indicators David Green teaches (e.g., moving averages, breakouts, volume spikes).\n",
       "- The AI agent can evaluate these indicators against his rule set in real time to identify trade signals.\n",
       "\n",
       "#### 2. **Automate Trade Execution**\n",
       "- Once a valid trade signal is identified, the AI agent can automatically submit orders via Alpaca’s API.\n",
       "- Enforce risk management rules such as stop-loss settings, position sizing, and take-profit targets.\n",
       "- The agent can actively monitor open positions and manage exits.\n",
       "\n",
       "#### 3. **Backtesting and Strategy Refinement**\n",
       "- Build an agentic system that tests David Green’s strategy on historical data.\n",
       "- Automatically modify parameters (e.g., lookback periods, thresholds) within a constrained range for optimization.\n",
       "- Identify which sets of parameters yield the most consistent profitability.\n",
       "\n",
       "#### 4. **Continuous Learning and Adaptation**\n",
       "- While David Green’s strategy is mostly rule-based, agentic AI can log trade outcomes and learn to tweak parameters slightly to adapt to changing market volatility or conditions.\n",
       "- You can implement a simpler machine learning regression or classification model that acts as a secondary filter on trade signals.\n",
       "\n",
       "#### 5. **Alerting and Human-in-the-Loop Interaction**\n",
       "- The agentic AI can notify you with explanations of trade signals and rationale.\n",
       "- You can approve or veto specific trades to maintain control while learning.\n",
       "\n",
       "#### 6. **Error Handling and Safety Checks**\n",
       "- Implement agentic safeguards to prevent catastrophic loss (e.g., maximum daily loss limits).\n",
       "- Auto-pause trading if market conditions appear unusual or connectivity issues arise.\n",
       "\n",
       "---\n",
       "\n",
       "### Example Workflow for Agentic AI Trading System Using Alpaca and David Green Strategy\n",
       "\n",
       "1. **Initialization:**\n",
       "   - Define your strategy rules (breakout above resistance, volume confirmation, etc.).\n",
       "   - Set risk parameters (max position size, stop-loss limits).\n",
       "\n",
       "2. **Market Monitoring Agent:**\n",
       "   - Continuously fetch tick and bar data from Alpaca.\n",
       "   - Calculate indicators in real-time.\n",
       "\n",
       "3. **Decision-Making Agent:**\n",
       "   - Evaluate conditions for trade entries and exits based on David Green’s rules.\n",
       "   - Assess risk and capital availability.\n",
       "\n",
       "4. **Trade Execution Agent:**\n",
       "   - Place orders via Alpaca’s API.\n",
       "   - Track order status and fill prices.\n",
       "\n",
       "5. **Performance Logging Agent:**\n",
       "   - Keep track of trades, profit/loss, slippage.\n",
       "   - Generate periodic reports.\n",
       "\n",
       "6. **Optimization Agent (Optional):**\n",
       "   - Backtest strategy variations overnight.\n",
       "   - Recommend parameter updates.\n",
       "\n",
       "---\n",
       "\n",
       "### Getting Started: Tools and Technologies\n",
       "\n",
       "- **Alpaca API** for brokerage integration.\n",
       "- **Python** with trading libraries like `pandas`, `ta-lib` for indicators.\n",
       "- **Agent Framework**: Build your agents using async Python scripts or frameworks like `Prefect` or `Ray` for distributed task management.\n",
       "- **Data Storage**: Use lightweight databases (SQLite, PostgreSQL) or cloud storage to record trade logs.\n",
       "- **Monitoring & Alerts**: Integrate with notification services (Email, Slack, SMS).\n",
       "\n",
       "---\n",
       "\n",
       "### Final Tips\n",
       "\n",
       "- **Start Small**: Use paper trading mode on Alpaca to avoid risking real money initially.\n",
       "- **Document Everything**: Keep detailed records of decisions and trades for debugging and learning.\n",
       "- **Iterate Quickly**: Agentic AI lets you try many adjustments faster than manual tweaking.\n",
       "- **Stay Compliant**: Understand pattern day trading rules and Alpaca account restrictions.\n",
       "\n",
       "---\n",
       "\n",
       "If you want, I can help you outline a sample code structure or a minimal viable agentic AI script to get this up and running on Alpaca! Would you like to see that?"
      ],
      "text/plain": [
       "<IPython.core.display.Markdown object>"
      ]
     },
     "metadata": {},
     "output_type": "display_data"
    },
    {
     "data": {
      "text/markdown": [
       "Great question! It sounds like you’ve got a solid grasp on David Green’s day trading strategy, and you’re looking to enhance it using agentic AI for automation and optimization on Alpaca. Based on what you asked and the foundation you outlined, here’s a comprehensive overview on how **agentic AI** can help with your project, plus a minimal code structure example to kickstart your implementation.\n",
       "\n",
       "---\n",
       "\n",
       "## How Agentic AI Helps Implement David Green’s Day Trading Strategy on Alpaca\n",
       "\n",
       "Agentic AI means building autonomous agents that not only execute predefined rules but also monitor the environment, learn from outcomes, and adapt strategy parameters over time with minimal human input.\n",
       "\n",
       "### Key Advantages:\n",
       "\n",
       "- **Real-Time Data Processing:** Continuously ingest Alpaca market data streams.\n",
       "- **Rule-Based Signal Detection:** Embed David Green’s breakout and momentum rules to trigger trade signals.\n",
       "- **Automated Trade Execution:** Place and manage orders instantly based on signals and risk rules.\n",
       "- **Strategy Optimization:** Backtest and optimize strategy parameters automatically.\n",
       "- **Learning & Adaptation:** Adjust your trading thresholds dynamically in response to market conditions.\n",
       "- **User-in-the-Loop:** Notify you of key activities or anomalies and accept manual overrides.\n",
       "- **Risk & Safety Controls:** Auto pause or stop trading during unexpected events or excessive losses.\n",
       "\n",
       "---\n",
       "\n",
       "## Minimal Workflow for an Agentic AI Day Trading System\n",
       "\n",
       "| Agent Role          | Responsibilities                                                           |\n",
       "|---------------------|----------------------------------------------------------------------------|\n",
       "| **Market Monitoring** | Stream Alpaca data, compute indicators like moving averages, volume spikes |\n",
       "| **Signal Generation** | Apply David Green’s rules (e.g., breakout above resistance, momentum checks) and detect entry/exit signals          |\n",
       "| **Execution**         | Send orders via Alpaca’s API, manage stop-loss, take-profit levels          |\n",
       "| **Performance Logging**| Track trades, P&L, slippage, and logs for review                          |\n",
       "| **Optimization (Optional)** | Backtest strategy with parameter sweeps, update settings                 |\n",
       "| **Alerting**          | Send trade alerts, error warnings, and reports via Slack, Email, etc.      |\n",
       "\n",
       "---\n",
       "\n",
       "## Example Agentic AI Python Script Skeleton\n",
       "\n",
       "```python\n",
       "import alpaca_trade_api as tradeapi\n",
       "import pandas as pd\n",
       "import asyncio\n",
       "from ta.trend import SMAIndicator\n",
       "import logging\n",
       "\n",
       "# Configurations\n",
       "API_KEY = 'your_alpaca_key'\n",
       "API_SECRET = 'your_alpaca_secret'\n",
       "BASE_URL = 'https://paper-api.alpaca.markets'  # Paper trading base URL\n",
       "\n",
       "symbol = \"AAPL\"\n",
       "bar_timeframe = '1Min'  # Adjust as per strategy\n",
       "position_size = 10  # Shares per trade\n",
       "\n",
       "# Initialize Alpaca API client\n",
       "api = tradeapi.REST(API_KEY, API_SECRET, BASE_URL, api_version='v2')\n",
       "\n",
       "# Setup logging\n",
       "logging.basicConfig(level=logging.INFO)\n",
       "\n",
       "async def fetch_latest_bars(symbol, limit=50):\n",
       "    barset = api.get_barset(symbol, bar_timeframe, limit=limit)\n",
       "    bars = barset[symbol]\n",
       "    df = pd.DataFrame({\n",
       "        'time': [bar.t for bar in bars],\n",
       "        'open': [bar.o for bar in bars],\n",
       "        'high': [bar.h for bar in bars],\n",
       "        'low': [bar.l for bar in bars],\n",
       "        'close': [bar.c for bar in bars],\n",
       "        'volume': [bar.v for bar in bars]\n",
       "    })\n",
       "    return df\n",
       "\n",
       "def detect_breakout(df, window=20):\n",
       "    \"\"\"\n",
       "    David Green style breakout logic (simplified):\n",
       "    - Price breaks above recent high (e.g. 20-period high)\n",
       "    \"\"\"\n",
       "    df['sma'] = SMAIndicator(df['close'], window).sma_indicator()\n",
       "    recent_high = df['high'].rolling(window).max().iloc[-2]  # High until previous bar\n",
       "    current_close = df['close'].iloc[-1]\n",
       "\n",
       "    breakout = current_close > recent_high\n",
       "    logging.info(f\"Breakout detection: current_close={current_close}, recent_high={recent_high}, breakout={breakout}\")\n",
       "    return breakout\n",
       "\n",
       "async def trade_decision():\n",
       "    df = await fetch_latest_bars(symbol)\n",
       "    if detect_breakout(df):\n",
       "        # Check if we are already in position\n",
       "        positions = api.list_positions()\n",
       "        if not any(pos.symbol == symbol for pos in positions):\n",
       "            # Submit buy order\n",
       "            logging.info(\"Placing buy order\")\n",
       "            api.submit_order(symbol=symbol, qty=position_size, side='buy', type='market', time_in_force='gtc')\n",
       "        else:\n",
       "            logging.info(\"Already in position, no action\")\n",
       "    else:\n",
       "        # Check if we have position to exit\n",
       "        positions = api.list_positions()\n",
       "        holding = next((pos for pos in positions if pos.symbol == symbol), None)\n",
       "        if holding:\n",
       "            # Submit sell order to exit\n",
       "            logging.info(\"Placing sell order\")\n",
       "            api.submit_order(symbol=symbol, qty=holding.qty, side='sell', type='market', time_in_force='gtc')\n",
       "        else:\n",
       "            logging.info(\"No position to exit\")\n",
       "\n",
       "async def main_loop():\n",
       "    while True:\n",
       "        try:\n",
       "            await trade_decision()\n",
       "            await asyncio.sleep(60)  # Wait a minute before next scan\n",
       "        except Exception as e:\n",
       "            logging.error(f\"Error in main loop: {e}\")\n",
       "\n",
       "if __name__ == \"__main__\":\n",
       "    asyncio.run(main_loop())\n",
       "```\n",
       "\n",
       "---\n",
       "\n",
       "## Next Steps to Enhance Agentic Behavior\n",
       "\n",
       "- **Add Stop Loss / Take Profit**: Track open trades and submit orders to exit based on price thresholds.\n",
       "- **State Management**: Persist data in a database and keep track of trade history.\n",
       "- **Backtesting Module**: Build offline backtester to tune parameter values.\n",
       "- **Parameter Optimization**: Run nightly crawls with parameter sweeps and update strategy config.\n",
       "- **Alerting**: Integrate Slack/Email/SMS to notify you of trades and errors.\n",
       "- **Security**: Add fail-safes for API connection drops and emergency shutdown.\n",
       "\n",
       "---\n",
       "\n",
       "## Summary\n",
       "\n",
       "By building distinct agents for monitoring, signal detection, execution, and logging, you end up with an autonomous trading system that embodies David Green’s day trading rules and can learn/evolve with minimal manual tweaks. Alpaca’s API and Python’s async capabilities make this approachable, layer by layer.\n",
       "\n",
       "If you'd like, I can guide you on:\n",
       "\n",
       "- Expanding the above script with stop-loss management\n",
       "- Building a backtesting framework for your strategy\n",
       "- Writing a simple parameter optimization agent\n",
       "- Setting up alerts and dashboards\n",
       "\n",
       "Just let me know!"
      ],
      "text/plain": [
       "<IPython.core.display.Markdown object>"
      ]
     },
     "metadata": {},
     "output_type": "display_data"
    }
   ],
   "source": [
    "# Second create the messages:\n",
    "\n",
    "messages = [{\"role\": \"user\", \"content\": \"I'm using Alpaca as the platform for day trading.  My goal is to make money. As a starting point I would like to create and implement the day trading strategy taught by day trader David Green before I explore other more sophisticated strategies like Deep RL based solutions. How can agentic AI be used to help with it?\"}]\n",
    "\n",
    "# Then make the first call:\n",
    "\n",
    "response = openai.chat.completions.create(\n",
    "    model=\"gpt-4.1-mini\",\n",
    "    messages=messages\n",
    ")\n",
    "\n",
    "answer = response.choices[0].message.content\n",
    "\n",
    "display(Markdown(answer))\n",
    "\n",
    "# Then read the business idea:\n",
    "\n",
    "business_idea = answer\n",
    "\n",
    "# And repeat! In the next message, include the business idea within the message\n",
    "\n",
    "messages = [{\"role\": \"user\", \"content\": f\"How can agentic AI be used to help with {business_idea}?\"}]\n",
    "\n",
    "response = openai.chat.completions.create(\n",
    "    model=\"gpt-4.1-mini\",\n",
    "    messages=messages\n",
    ")\n",
    "\n",
    "display(Markdown(response.choices[0].message.content))"
   ]
  },
  {
   "cell_type": "markdown",
   "metadata": {},
   "source": [
    "## An Agentic Solution for getting the S&P 500 Performance of the last 10 Days"
   ]
  },
  {
   "cell_type": "code",
   "execution_count": 6,
   "metadata": {},
   "outputs": [],
   "source": [
    "# Load the Google API key\n",
    "GOOGLE_API_KEY = os.getenv(\"GOOGLE_API_KEY\")"
   ]
  },
  {
   "cell_type": "code",
   "execution_count": 18,
   "metadata": {},
   "outputs": [],
   "source": [
    "import os\n",
    "import pandas as pd\n",
    "import yfinance as yf\n",
    "import matplotlib.pyplot as plt\n",
    "import google.generativeai as genai\n",
    "from datetime import datetime, timedelta\n",
    "\n",
    "# --- Tool 1: Fetch S&P 500 Data and SAVE TO FILE ---\n",
    "# This function is now more robust. Instead of returning a complex string,\n",
    "# it saves the data to a CSV file and returns a simple confirmation message.\n",
    "def get_sp500_and_save_to_csv():\n",
    "    \"\"\"\n",
    "    Fetches the S&P 500 (^GSPC) closing prices for the last 10 days\n",
    "    and saves the data to a file named 'sp500_data.csv'.\n",
    "    \n",
    "    Returns:\n",
    "        A string confirming the successful data retrieval and file save.\n",
    "    \"\"\"\n",
    "    try:\n",
    "        data_filename = \"sp500_data.csv\"\n",
    "        # Define the ticker for S&P 500\n",
    "        ticker = yf.Ticker(\"^GSPC\")\n",
    "        \n",
    "        # Calculate the date range for the last 10 days\n",
    "        end_date = datetime.now()\n",
    "        start_date = end_date - timedelta(days=10)\n",
    "        \n",
    "        # Get historical data\n",
    "        hist = ticker.history(start=start_date.strftime('%Y-%m-%d'), end=end_date.strftime('%Y-%m-%d'))\n",
    "        \n",
    "        if hist.empty:\n",
    "            return \"Could not retrieve S&P 500 data. The market may have been closed or data is unavailable.\"\n",
    "        \n",
    "        # Save the relevant data to a CSV file\n",
    "        hist[['Close']].to_csv(data_filename)\n",
    "        \n",
    "        return f\"Successfully fetched S&P 500 data and saved it to {data_filename}\"\n",
    "    except Exception as e:\n",
    "        return f\"An error occurred while fetching data: {e}\"\n",
    "\n",
    "# --- Tool 2: Plot S&P 500 Data FROM FILE ---\n",
    "# This function is now simpler. It knows where to find the data,\n",
    "# so it doesn't need any arguments. This prevents the malformed call error.\n",
    "def plot_sp500_data_from_csv():\n",
    "    \"\"\"\n",
    "    Plots S&P 500 closing prices from the 'sp500_data.csv' file.\n",
    "    The plot is saved as 'sp500_performance.png'.\n",
    "    \n",
    "    Returns:\n",
    "        A string confirming the plot generation.\n",
    "    \"\"\"\n",
    "    try:\n",
    "        data_filename = \"sp500_data.csv\"\n",
    "        plot_filename = \"sp500_performance.png\"\n",
    "        \n",
    "        # Read the data from the CSV file\n",
    "        data = pd.read_csv(data_filename)\n",
    "        \n",
    "        # Convert 'Date' column to datetime objects for better plotting\n",
    "        data['Date'] = pd.to_datetime(data['Date'])\n",
    "        \n",
    "        # Plotting\n",
    "        plt.figure(figsize=(10, 6))\n",
    "        plt.plot(data['Date'], data['Close'], marker='o', linestyle='-')\n",
    "        plt.title('S&P 500 Closing Prices (Last 10 Days)')\n",
    "        plt.xlabel('Date')\n",
    "        plt.ylabel('Closing Price (USD)')\n",
    "        plt.grid(True)\n",
    "        plt.xticks(rotation=45)\n",
    "        plt.tight_layout()\n",
    "        \n",
    "        # Save the plot to a file\n",
    "        plt.savefig(plot_filename)\n",
    "        \n",
    "        return f\"Plot successfully generated and saved as {plot_filename}\"\n",
    "    except FileNotFoundError:\n",
    "        return f\"Error: Data file '{data_filename}' not found. Please run the data fetching function first.\"\n",
    "    except Exception as e:\n",
    "        return f\"An error occurred during plotting: {e}\"\n",
    "\n",
    "# --- Agentic Setup with Google's LLM ---\n",
    "def run_agent():\n",
    "    \"\"\"\n",
    "    Initializes and runs the agentic model.\n",
    "    \"\"\"\n",
    "    # Configure the generative model with the API key\n",
    "    try:\n",
    "        genai.configure(api_key=os.environ[\"GOOGLE_API_KEY\"])\n",
    "    except KeyError:\n",
    "        print(\"Error: GOOGLE_API_KEY environment variable not set.\")\n",
    "        return\n",
    "\n",
    "    # Create the model with our new, more robust tools\n",
    "    model = genai.GenerativeModel(\n",
    "        model_name='gemini-1.5-flash',\n",
    "        tools=[get_sp500_and_save_to_csv, plot_sp500_data_from_csv]\n",
    "    )\n",
    "\n",
    "    # Start a chat session with the model\n",
    "    chat = model.start_chat(enable_automatic_function_calling=True)\n",
    "\n",
    "    # The user's prompt remains the same\n",
    "    prompt = \"First, get the S&P 500 performance for the last 10 days. Then, plot the resulting data.\"\n",
    "    print(f\"User Prompt: {prompt}\\n\")\n",
    "\n",
    "    # Send the prompt to the model\n",
    "    response = chat.send_message(prompt)\n",
    "\n",
    "    # The model will automatically call the functions in sequence.\n",
    "    print(f\"Agent's Final Response: {response.text}\")\n",
    "\n",
    "# if __name__ == \"__main__\":\n",
    "#     run_agent()"
   ]
  },
  {
   "cell_type": "code",
   "execution_count": 19,
   "metadata": {},
   "outputs": [
    {
     "name": "stdout",
     "output_type": "stream",
     "text": [
      "User Prompt: First, get the S&P 500 performance for the last 10 days. Then, plot the resulting data.\n",
      "\n",
      "Agent's Final Response: I have fetched the S&P 500 data for the last 10 days and saved it to `sp500_data.csv`.  Additionally, I have generated a plot of this data and saved it as `sp500_performance.png`.\n",
      "\n"
     ]
    },
    {
     "data": {
      "image/png": "[encoded data removed]",
      "text/plain": [
       "<Figure size 1000x600 with 1 Axes>"
      ]
     },
     "metadata": {},
     "output_type": "display_data"
    }
   ],
   "source": [
    "run_agent()"
   ]
  }
 ],
 "metadata": {
  "kernelspec": {
   "display_name": "agents",
   "language": "python",
   "name": "python3"
  },
  "language_info": {
   "codemirror_mode": {
    "name": "ipython",
    "version": 3
   },
   "file_extension": ".py",
   "mimetype": "text/x-python",
   "name": "python",
   "nbconvert_exporter": "python",
   "pygments_lexer": "ipython3",
   "version": "3.12.11"
  }
 },
 "nbformat": 4,
 "nbformat_minor": 2
}
