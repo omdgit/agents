{
 "cells": [
  {
   "cell_type": "markdown",
   "metadata": {},
   "source": [
    "## Week 2 Day 3\n",
    "\n",
    "Now we get to more detail:\n",
    "\n",
    "1. Different models\n",
    "\n",
    "2. Structured Outputs\n",
    "\n",
    "3. Guardrails"
   ]
  },
  {
   "cell_type": "code",
   "execution_count": null,
   "metadata": {},
   "outputs": [],
   "source": []
  },
  {
   "cell_type": "code",
   "execution_count": 1,
   "metadata": {},
   "outputs": [],
   "source": [
    "from dotenv import load_dotenv\n",
    "from openai import AsyncOpenAI\n",
    "from agents import Agent, Runner, trace, function_tool, OpenAIChatCompletionsModel, input_guardrail, GuardrailFunctionOutput\n",
    "from typing import Dict\n",
    "# import sendgrid\n",
    "import os\n",
    "# from sendgrid.helpers.mail import Mail, Email, To, Content\n",
    "from pydantic import BaseModel\n",
    "\n",
    "import brevo_python \n",
    "import asyncio \n",
    "import brevo_python \n",
    "from brevo_python.api import transactional_emails_api \n",
    "from brevo_python.models.send_smtp_email import SendSmtpEmail \n",
    "from brevo_python.models.send_smtp_email_to import SendSmtpEmailTo \n",
    "from brevo_python.models.send_smtp_email_sender import SendSmtpEmailSender "
   ]
  },
  {
   "cell_type": "code",
   "execution_count": 2,
   "metadata": {},
   "outputs": [
    {
     "data": {
      "text/plain": [
       "True"
      ]
     },
     "execution_count": 2,
     "metadata": {},
     "output_type": "execute_result"
    }
   ],
   "source": [
    "load_dotenv(override=True)"
   ]
  },
  {
   "cell_type": "code",
   "execution_count": 3,
   "metadata": {},
   "outputs": [
    {
     "name": "stdout",
     "output_type": "stream",
     "text": [
      "OpenAI API Key exists and begins sk-5okwQ\n",
      "Google API Key exists and begins AI\n",
      "DeepSeek API Key exists and begins sk-\n",
      "Groq API Key exists and begins gsk_\n"
     ]
    }
   ],
   "source": [
    "openai_api_key = os.getenv('OPENAI_API_KEY')\n",
    "google_api_key = os.getenv('GOOGLE_API_KEY')\n",
    "deepseek_api_key = os.getenv('DEEPSEEK_API_KEY')\n",
    "groq_api_key = os.getenv('GROQ_API_KEY')\n",
    "\n",
    "if openai_api_key:\n",
    "    print(f\"OpenAI API Key exists and begins {openai_api_key[:8]}\")\n",
    "else:\n",
    "    print(\"OpenAI API Key not set\")\n",
    "\n",
    "if google_api_key:\n",
    "    print(f\"Google API Key exists and begins {google_api_key[:2]}\")\n",
    "else:\n",
    "    print(\"Google API Key not set (and this is optional)\")\n",
    "\n",
    "if deepseek_api_key:\n",
    "    print(f\"DeepSeek API Key exists and begins {deepseek_api_key[:3]}\")\n",
    "else:\n",
    "    print(\"DeepSeek API Key not set (and this is optional)\")\n",
    "\n",
    "if groq_api_key:\n",
    "    print(f\"Groq API Key exists and begins {groq_api_key[:4]}\")\n",
    "else:\n",
    "    print(\"Groq API Key not set (and this is optional)\")"
   ]
  },
  {
   "cell_type": "code",
   "execution_count": 4,
   "metadata": {},
   "outputs": [],
   "source": [
    "instructions1 = \"You are a sales agent working for ComplAI, \\\n",
    "a company that provides a SaaS tool for ensuring SOC2 compliance and preparing for audits, powered by AI. \\\n",
    "You write professional, serious cold emails.\"\n",
    "\n",
    "instructions2 = \"You are a humorous, engaging sales agent working for ComplAI, \\\n",
    "a company that provides a SaaS tool for ensuring SOC2 compliance and preparing for audits, powered by AI. \\\n",
    "You write witty, engaging cold emails that are likely to get a response.\"\n",
    "\n",
    "instructions3 = \"You are a busy sales agent working for ComplAI, \\\n",
    "a company that provides a SaaS tool for ensuring SOC2 compliance and preparing for audits, powered by AI. \\\n",
    "You write concise, to the point cold emails.\""
   ]
  },
  {
   "cell_type": "markdown",
   "metadata": {},
   "source": [
    "### It's easy to use any models with OpenAI compatible endpoints"
   ]
  },
  {
   "cell_type": "code",
   "execution_count": 5,
   "metadata": {},
   "outputs": [],
   "source": [
    "GEMINI_BASE_URL = \"https://generativelanguage.googleapis.com/v1beta/openai/\"\n",
    "DEEPSEEK_BASE_URL = \"https://api.deepseek.com/v1\"\n",
    "GROQ_BASE_URL = \"https://api.groq.com/openai/v1\""
   ]
  },
  {
   "cell_type": "code",
   "execution_count": 6,
   "metadata": {},
   "outputs": [],
   "source": [
    "\n",
    "deepseek_client = AsyncOpenAI(base_url=DEEPSEEK_BASE_URL, api_key=deepseek_api_key)\n",
    "gemini_client = AsyncOpenAI(base_url=GEMINI_BASE_URL, api_key=google_api_key)\n",
    "groq_client = AsyncOpenAI(base_url=GROQ_BASE_URL, api_key=groq_api_key)\n",
    "\n",
    "deepseek_model = OpenAIChatCompletionsModel(model=\"deepseek-chat\", openai_client=deepseek_client)\n",
    "gemini_model = OpenAIChatCompletionsModel(model=\"gemini-2.0-flash\", openai_client=gemini_client)\n",
    "llama3_3_model = OpenAIChatCompletionsModel(model=\"llama-3.3-70b-versatile\", openai_client=groq_client)"
   ]
  },
  {
   "cell_type": "code",
   "execution_count": 7,
   "metadata": {},
   "outputs": [],
   "source": [
    "sales_agent1 = Agent(name=\"DeepSeek Sales Agent\", instructions=instructions1, model=deepseek_model)\n",
    "sales_agent2 =  Agent(name=\"Gemini Sales Agent\", instructions=instructions2, model=gemini_model)\n",
    "sales_agent3  = Agent(name=\"Llama3.3 Sales Agent\",instructions=instructions3,model=llama3_3_model)"
   ]
  },
  {
   "cell_type": "code",
   "execution_count": 8,
   "metadata": {},
   "outputs": [],
   "source": [
    "description = \"Write a cold sales email\"\n",
    "\n",
    "tool1 = sales_agent1.as_tool(tool_name=\"sales_agent1\", tool_description=description)\n",
    "tool2 = sales_agent2.as_tool(tool_name=\"sales_agent2\", tool_description=description)\n",
    "tool3 = sales_agent3.as_tool(tool_name=\"sales_agent3\", tool_description=description)"
   ]
  },
  {
   "cell_type": "code",
   "execution_count": 9,
   "metadata": {},
   "outputs": [],
   "source": [
    "@function_tool\n",
    "def send_html_email(body: str):\n",
    "    \"\"\" Send out an email with the given subject and HTML body to all sales prospects \"\"\"\n",
    "    configuration = brevo_python.Configuration()\n",
    "    api_key = os.environ.get('BREVO_API_KEY')\n",
    "    if not api_key:\n",
    "        raise ValueError(\"BREVO_API_KEY environment variable not set.\")\n",
    "    configuration.api_key['api-key'] = api_key\n",
    "    api_instance = transactional_emails_api.TransactionalEmailsApi(brevo_python.ApiClient(configuration))\n",
    "    sender = SendSmtpEmailSender(email=\"oliver@oliverdreger.cloud\", name=\"Oliver Dreger\")\n",
    "    to = [SendSmtpEmailTo(email=\"oliver.dreger@gmail.com\", name=\"Oliver Dreger\")]\n",
    "    send_smtp_email = SendSmtpEmail(\n",
    "        sender=sender,\n",
    "        to=to,\n",
    "        subject=\"Sales email\",\n",
    "        text_content=body\n",
    "    )\n",
    "    try:\n",
    "        api_response = api_instance.send_transac_email(send_smtp_email)\n",
    "        print(\"Email sent successfully!\")\n",
    "        print(f\"Response: {api_response}\")\n",
    "    except brevo_python.ApiException as e:\n",
    "        print(f\"Exception when calling TransactionalEmailsApi->send_transac_email: {e}\\n\")\n",
    "    return {\"status\": \"success\"}"
   ]
  },
  {
   "cell_type": "code",
   "execution_count": 10,
   "metadata": {},
   "outputs": [],
   "source": [
    "subject_instructions = \"You can write a subject for a cold sales email. \\\n",
    "You are given a message and you need to write a subject for an email that is likely to get a response.\"\n",
    "\n",
    "html_instructions = \"You can convert a text email body to an HTML email body. \\\n",
    "You are given a text email body which might have some markdown \\\n",
    "and you need to convert it to an HTML email body with simple, clear, compelling layout and design.\"\n",
    "\n",
    "subject_writer = Agent(name=\"Email subject writer\", instructions=subject_instructions, model=\"gpt-4o-mini\")\n",
    "subject_tool = subject_writer.as_tool(tool_name=\"subject_writer\", tool_description=\"Write a subject for a cold sales email\")\n",
    "\n",
    "html_converter = Agent(name=\"HTML email body converter\", instructions=html_instructions, model=\"gpt-4o-mini\")\n",
    "html_tool = html_converter.as_tool(tool_name=\"html_converter\",tool_description=\"Convert a text email body to an HTML email body\")"
   ]
  },
  {
   "cell_type": "code",
   "execution_count": 11,
   "metadata": {},
   "outputs": [],
   "source": [
    "email_tools = [subject_tool, html_tool, send_html_email]"
   ]
  },
  {
   "cell_type": "code",
   "execution_count": 12,
   "metadata": {},
   "outputs": [],
   "source": [
    "instructions =\"You are an email formatter and sender. You receive the body of an email to be sent. \\\n",
    "You first use the subject_writer tool to write a subject for the email, then use the html_converter tool to convert the body to HTML. \\\n",
    "Finally, you use the send_html_email tool to send the email with the subject and HTML body.\"\n",
    "\n",
    "\n",
    "emailer_agent = Agent(\n",
    "    name=\"Email Manager\",\n",
    "    instructions=instructions,\n",
    "    tools=email_tools,\n",
    "    model=\"gpt-4o-mini\",\n",
    "    handoff_description=\"Convert an email to HTML and send it\")"
   ]
  },
  {
   "cell_type": "code",
   "execution_count": 13,
   "metadata": {},
   "outputs": [],
   "source": [
    "tools = [tool1, tool2, tool3]\n",
    "handoffs = [emailer_agent]"
   ]
  },
  {
   "cell_type": "code",
   "execution_count": 14,
   "metadata": {},
   "outputs": [
    {
     "name": "stdout",
     "output_type": "stream",
     "text": [
      "Email sent successfully!\n",
      "Response: {'message_id': '<202507242320.72557531278@smtp-relay.mailin.fr>',\n",
      " 'message_ids': None}\n"
     ]
    }
   ],
   "source": [
    "sales_manager_instructions = \"You are a sales manager working for ComplAI. You use the tools given to you to generate cold sales emails. \\\n",
    "You never generate sales emails yourself; you always use the tools. \\\n",
    "You try all 3 sales agent tools at least once before choosing the best one. \\\n",
    "You can use the tools multiple times if you're not satisfied with the results from the first try. \\\n",
    "You select the single best email using your own judgement of which email will be most effective. \\\n",
    "After picking the email, you handoff to the Email Manager agent to format and send the email.\"\n",
    "\n",
    "\n",
    "sales_manager = Agent(\n",
    "    name=\"Sales Manager\",\n",
    "    instructions=sales_manager_instructions,\n",
    "    tools=tools,\n",
    "    handoffs=handoffs,\n",
    "    model=\"gpt-4o-mini\")\n",
    "\n",
    "message = \"Send out a cold sales email addressed to Dear CEO from Alice\"\n",
    "\n",
    "with trace(\"Automated SDR\"):\n",
    "    result = await Runner.run(sales_manager, message)"
   ]
  },
  {
   "cell_type": "markdown",
   "metadata": {},
   "source": [
    "## Check out the trace:\n",
    "\n",
    "https://platform.openai.com/traces"
   ]
  },
  {
   "cell_type": "code",
   "execution_count": 15,
   "metadata": {},
   "outputs": [],
   "source": [
    "class NameCheckOutput(BaseModel):\n",
    "    is_name_in_message: bool\n",
    "    name: str\n",
    "\n",
    "guardrail_agent = Agent( \n",
    "    name=\"Name check\",\n",
    "    instructions=\"Check if the user is including someone's personal name in what they want you to do.\",\n",
    "    output_type=NameCheckOutput,\n",
    "    model=\"gpt-4o-mini\"\n",
    ")"
   ]
  },
  {
   "cell_type": "code",
   "execution_count": 16,
   "metadata": {},
   "outputs": [],
   "source": [
    "@input_guardrail\n",
    "async def guardrail_against_name(ctx, agent, message):\n",
    "    result = await Runner.run(guardrail_agent, message, context=ctx.context)\n",
    "    is_name_in_message = result.final_output.is_name_in_message\n",
    "    return GuardrailFunctionOutput(output_info={\"found_name\": result.final_output},tripwire_triggered=is_name_in_message)"
   ]
  },
  {
   "cell_type": "code",
   "execution_count": 17,
   "metadata": {},
   "outputs": [
    {
     "ename": "InputGuardrailTripwireTriggered",
     "evalue": "Guardrail InputGuardrail triggered tripwire",
     "output_type": "error",
     "traceback": [
      "\u001b[31m---------------------------------------------------------------------------\u001b[39m",
      "\u001b[31mInputGuardrailTripwireTriggered\u001b[39m           Traceback (most recent call last)",
      "\u001b[36mCell\u001b[39m\u001b[36m \u001b[39m\u001b[32mIn[17]\u001b[39m\u001b[32m, line 13\u001b[39m\n\u001b[32m     10\u001b[39m message = \u001b[33m\"\u001b[39m\u001b[33mSend out a cold sales email addressed to Dear CEO from Alice\u001b[39m\u001b[33m\"\u001b[39m\n\u001b[32m     12\u001b[39m \u001b[38;5;28;01mwith\u001b[39;00m trace(\u001b[33m\"\u001b[39m\u001b[33mProtected Automated SDR\u001b[39m\u001b[33m\"\u001b[39m):\n\u001b[32m---> \u001b[39m\u001b[32m13\u001b[39m     result = \u001b[38;5;28;01mawait\u001b[39;00m Runner.run(careful_sales_manager, message)\n",
      "\u001b[36mFile \u001b[39m\u001b[32m~/Documents/mygit/GitHub/agents/.venv/lib/python3.12/site-packages/agents/run.py:199\u001b[39m, in \u001b[36mRunner.run\u001b[39m\u001b[34m(cls, starting_agent, input, context, max_turns, hooks, run_config, previous_response_id)\u001b[39m\n\u001b[32m    172\u001b[39m \u001b[38;5;250m\u001b[39m\u001b[33;03m\"\"\"Run a workflow starting at the given agent. The agent will run in a loop until a final\u001b[39;00m\n\u001b[32m    173\u001b[39m \u001b[33;03moutput is generated. The loop runs like so:\u001b[39;00m\n\u001b[32m    174\u001b[39m \u001b[33;03m1. The agent is invoked with the given input.\u001b[39;00m\n\u001b[32m   (...)\u001b[39m\u001b[32m    196\u001b[39m \u001b[33;03m    agent. Agents may perform handoffs, so we don't know the specific type of the output.\u001b[39;00m\n\u001b[32m    197\u001b[39m \u001b[33;03m\"\"\"\u001b[39;00m\n\u001b[32m    198\u001b[39m runner = DEFAULT_AGENT_RUNNER\n\u001b[32m--> \u001b[39m\u001b[32m199\u001b[39m \u001b[38;5;28;01mreturn\u001b[39;00m \u001b[38;5;28;01mawait\u001b[39;00m runner.run(\n\u001b[32m    200\u001b[39m     starting_agent,\n\u001b[32m    201\u001b[39m     \u001b[38;5;28minput\u001b[39m,\n\u001b[32m    202\u001b[39m     context=context,\n\u001b[32m    203\u001b[39m     max_turns=max_turns,\n\u001b[32m    204\u001b[39m     hooks=hooks,\n\u001b[32m    205\u001b[39m     run_config=run_config,\n\u001b[32m    206\u001b[39m     previous_response_id=previous_response_id,\n\u001b[32m    207\u001b[39m )\n",
      "\u001b[36mFile \u001b[39m\u001b[32m~/Documents/mygit/GitHub/agents/.venv/lib/python3.12/site-packages/agents/run.py:395\u001b[39m, in \u001b[36mAgentRunner.run\u001b[39m\u001b[34m(self, starting_agent, input, **kwargs)\u001b[39m\n\u001b[32m    390\u001b[39m logger.debug(\n\u001b[32m    391\u001b[39m     \u001b[33mf\u001b[39m\u001b[33m\"\u001b[39m\u001b[33mRunning agent \u001b[39m\u001b[38;5;132;01m{\u001b[39;00mcurrent_agent.name\u001b[38;5;132;01m}\u001b[39;00m\u001b[33m (turn \u001b[39m\u001b[38;5;132;01m{\u001b[39;00mcurrent_turn\u001b[38;5;132;01m}\u001b[39;00m\u001b[33m)\u001b[39m\u001b[33m\"\u001b[39m,\n\u001b[32m    392\u001b[39m )\n\u001b[32m    394\u001b[39m \u001b[38;5;28;01mif\u001b[39;00m current_turn == \u001b[32m1\u001b[39m:\n\u001b[32m--> \u001b[39m\u001b[32m395\u001b[39m     input_guardrail_results, turn_result = \u001b[38;5;28;01mawait\u001b[39;00m asyncio.gather(\n\u001b[32m    396\u001b[39m         \u001b[38;5;28mself\u001b[39m._run_input_guardrails(\n\u001b[32m    397\u001b[39m             starting_agent,\n\u001b[32m    398\u001b[39m             starting_agent.input_guardrails\n\u001b[32m    399\u001b[39m             + (run_config.input_guardrails \u001b[38;5;129;01mor\u001b[39;00m []),\n\u001b[32m    400\u001b[39m             copy.deepcopy(\u001b[38;5;28minput\u001b[39m),\n\u001b[32m    401\u001b[39m             context_wrapper,\n\u001b[32m    402\u001b[39m         ),\n\u001b[32m    403\u001b[39m         \u001b[38;5;28mself\u001b[39m._run_single_turn(\n\u001b[32m    404\u001b[39m             agent=current_agent,\n\u001b[32m    405\u001b[39m             all_tools=all_tools,\n\u001b[32m    406\u001b[39m             original_input=original_input,\n\u001b[32m    407\u001b[39m             generated_items=generated_items,\n\u001b[32m    408\u001b[39m             hooks=hooks,\n\u001b[32m    409\u001b[39m             context_wrapper=context_wrapper,\n\u001b[32m    410\u001b[39m             run_config=run_config,\n\u001b[32m    411\u001b[39m             should_run_agent_start_hooks=should_run_agent_start_hooks,\n\u001b[32m    412\u001b[39m             tool_use_tracker=tool_use_tracker,\n\u001b[32m    413\u001b[39m             previous_response_id=previous_response_id,\n\u001b[32m    414\u001b[39m         ),\n\u001b[32m    415\u001b[39m     )\n\u001b[32m    416\u001b[39m \u001b[38;5;28;01melse\u001b[39;00m:\n\u001b[32m    417\u001b[39m     turn_result = \u001b[38;5;28;01mawait\u001b[39;00m \u001b[38;5;28mself\u001b[39m._run_single_turn(\n\u001b[32m    418\u001b[39m         agent=current_agent,\n\u001b[32m    419\u001b[39m         all_tools=all_tools,\n\u001b[32m   (...)\u001b[39m\u001b[32m    427\u001b[39m         previous_response_id=previous_response_id,\n\u001b[32m    428\u001b[39m     )\n",
      "\u001b[36mFile \u001b[39m\u001b[32m~/Documents/mygit/GitHub/agents/.venv/lib/python3.12/site-packages/agents/run.py:1003\u001b[39m, in \u001b[36mAgentRunner._run_input_guardrails\u001b[39m\u001b[34m(cls, agent, guardrails, input, context)\u001b[39m\n\u001b[32m    996\u001b[39m         t.cancel()\n\u001b[32m    997\u001b[39m     _error_tracing.attach_error_to_current_span(\n\u001b[32m    998\u001b[39m         SpanError(\n\u001b[32m    999\u001b[39m             message=\u001b[33m\"\u001b[39m\u001b[33mGuardrail tripwire triggered\u001b[39m\u001b[33m\"\u001b[39m,\n\u001b[32m   1000\u001b[39m             data={\u001b[33m\"\u001b[39m\u001b[33mguardrail\u001b[39m\u001b[33m\"\u001b[39m: result.guardrail.get_name()},\n\u001b[32m   1001\u001b[39m         )\n\u001b[32m   1002\u001b[39m     )\n\u001b[32m-> \u001b[39m\u001b[32m1003\u001b[39m     \u001b[38;5;28;01mraise\u001b[39;00m InputGuardrailTripwireTriggered(result)\n\u001b[32m   1004\u001b[39m \u001b[38;5;28;01melse\u001b[39;00m:\n\u001b[32m   1005\u001b[39m     guardrail_results.append(result)\n",
      "\u001b[31mInputGuardrailTripwireTriggered\u001b[39m: Guardrail InputGuardrail triggered tripwire"
     ]
    }
   ],
   "source": [
    "careful_sales_manager = Agent(\n",
    "    name=\"Sales Manager\",\n",
    "    instructions=sales_manager_instructions,\n",
    "    tools=tools,\n",
    "    handoffs=[emailer_agent],\n",
    "    model=\"gpt-4o-mini\",\n",
    "    input_guardrails=[guardrail_against_name]\n",
    "    )\n",
    "\n",
    "message = \"Send out a cold sales email addressed to Dear CEO from Alice\"\n",
    "\n",
    "with trace(\"Protected Automated SDR\"):\n",
    "    result = await Runner.run(careful_sales_manager, message)"
   ]
  },
  {
   "cell_type": "markdown",
   "metadata": {},
   "source": [
    "## Check out the trace:\n",
    "\n",
    "https://platform.openai.com/traces"
   ]
  },
  {
   "cell_type": "code",
   "execution_count": 18,
   "metadata": {},
   "outputs": [
    {
     "name": "stdout",
     "output_type": "stream",
     "text": [
      "Email sent successfully!\n",
      "Response: {'message_id': '<202507242340.87297407173@smtp-relay.mailin.fr>',\n",
      " 'message_ids': None}\n"
     ]
    }
   ],
   "source": [
    "\n",
    "message = \"Send out a cold sales email addressed to Dear CEO from Head of Business Development\"\n",
    "\n",
    "with trace(\"Protected Automated SDR\"):\n",
    "    result = await Runner.run(careful_sales_manager, message)"
   ]
  },
  {
   "cell_type": "markdown",
   "metadata": {},
   "source": [
    "<table style=\"margin: 0; text-align: left; width:100%\">\n",
    "    <tr>\n",
    "        <td style=\"width: 150px; height: 150px; vertical-align: middle;\">\n",
    "            <img src=\"../../assets/exercise.png\" width=\"150\" height=\"150\" style=\"display: block;\" />\n",
    "        </td>\n",
    "        <td>\n",
    "            <h2 style=\"color:#ff7800;\">Exercise</h2>\n",
    "            <span style=\"color:#ff7800;\">• Try different models<br/>• Add more input and output guardrails<br/>• Use structured outputs for the email generation\n",
    "            </span>\n",
    "        </td>\n",
    "    </tr>\n",
    "</table>"
   ]
  },
  {
   "cell_type": "markdown",
   "metadata": {},
   "source": []
  },
  {
   "cell_type": "markdown",
   "metadata": {},
   "source": [
    "--- \n",
    "\n",
    "# Notebook Summary by Gemini\n",
    "\n",
    "---"
   ]
  },
  {
   "cell_type": "markdown",
   "metadata": {},
   "source": [
    "Of course. Here is a summary of the Jupyter Notebook `/Users/oliverdreger/Documents/mygit/GitHub/agents/2_openai/community_contributions/3_lab3_oliver.ipynb`.\n",
    "\n",
    "## Summary of the Notebook\n",
    "This Jupyter Notebook is a hands-on lab that demonstrates how to build a sophisticated, multi-agent system for generating and sending sales emails. It explores three key advanced concepts: using multiple Large Language Models (LLMs), ensuring reliable structured outputs, and implementing safety guardrails. \n",
    "\n",
    "**1. Multi-Model Integration:** The notebook begins by setting up API keys for various services (OpenAI, Google, DeepSeek, Groq). It then shows how to integrate models from different providers that offer OpenAI-compatible API endpoints.\n",
    "\n",
    "* It creates custom `AsyncOpenAI` clients for DeepSeek, Google (Gemini), and Groq (for Llama 3.3) by specifying their unique base URLs and API keys. \n",
    "* These clients are used to initialize `OpenAIChatCompletionsModel` objects. \n",
    "* Three distinct sales agents are created, each with a different persona (professional, humorous, concise) and powered by a different model (DeepSeek, Gemini, Llama 3.3 respectively).  \n",
    "\n",
    "**2. Agent Orchestration and Workflow:** A multi-layered agent system is constructed to automate the process of writing and sending a cold sales email.\n",
    "\n",
    "* The three sales agents are converted into tools that a manager agent can call.\n",
    "* Helper agents are created to handle specific sub-tasks: one for writing an email subject (`subject_writer`) and another for converting the email body to HTML (`html_converter`).\n",
    "* An `emailer_agent` is defined to orchestrate the formatting (subject and HTML conversion) and sending of the final email, using a `send_html_email` tool that leverages the SendGrid API.\n",
    "* A top-level `sales_manager` agent is tasked with using the three sales agent tools, evaluating their outputs, selecting the best one, and then handing it off to the `emailer_agent` for final processing and sending.\n",
    "\n",
    "**3. Structured Outputs and Guardrails:** The final part of the notebook introduces safety and reliability features.\n",
    "\n",
    "* **Structured Output:** It demonstrates how to force an agent's output into a specific format by defining a Pydantic `BaseModel` (`NameCheckOutput`). This ensures the output is a predictable, parsable object rather than free-form text.\n",
    "* **Input Guardrail:** An input guardrail is implemented to prevent the system from processing requests that contain personal names. \n",
    "    * A dedicated `guardrail_agent` is created. Its sole purpose is to check the user's message for a name. It uses the `NameCheckOutput` Pydantic model to return a structured result. \n",
    "    * An `async` function decorated with `@input_guardrail` runs this check. If a name is detected, it triggers a \"tripwire,\" which halts the entire operation and raises an exception. \n",
    "* A new `careful_sales_manager` agent is created, identical to the original but with the new input guardrail applied. The notebook concludes by running this \"careful\" agent twice: once with a prompt containing a name (which fails as expected) and once with a generic title (which succeeds), demonstrating the guardrail's effectiveness.\n",
    "The notebook ends with an exercise section prompting the user to experiment further with different models, add more guardrails, and use structured outputs for the main email generation."
   ]
  },
  {
   "cell_type": "markdown",
   "metadata": {},
   "source": [
    "--- \n",
    "\n",
    "# Transcript Summary by Gemini\n",
    "\n",
    "---"
   ]
  },
  {
   "cell_type": "markdown",
   "metadata": {},
   "source": [
    "Of course. Here is a detailed summary of Day 3 of the \"Master AI Agents in 30 days\" course.\n",
    "\n",
    "---\n",
    "\n",
    "### **Summary: \"Master AI Agents in 30 days\" - Day 3**\n",
    "\n",
    "Day 3 builds upon the Sales Development Representative (SDR) agent project from the previous day, introducing three advanced and critical concepts: integrating multiple LLM providers, implementing guardrails for safety, and using structured outputs for reliability.\n",
    "\n",
    "#### **1. Recap of Day 2**\n",
    "\n",
    "The session began with a quick review of Day 2's topics:\n",
    "*   **Tools:** Using the `@tool` decorator to easily wrap Python functions for agent use.\n",
    "*   **Agents as Tools:** Converting an entire agent into a tool using the `as_tool()` function.\n",
    "*   **Handoffs vs. Tools:** Clarifying the difference: a tool call is like a function call that returns a value, while a handoff is a complete transfer of control to another agent in the workflow.\n",
    "\n",
    "---\n",
    "\n",
    "#### **2. Multi-Model Integration**\n",
    "\n",
    "The first major topic was extending the OpenAI Agents SDK to use models from other providers like Google (Gemini), DeepSeek, and Grok (Llama 3).\n",
    "\n",
    "*   **The Key Requirement:** This integration is straightforward for any model provider that offers an **OpenAI-compatible endpoint**.\n",
    "*   **Implementation Steps:**\n",
    "    1.  **Set Environment Variables:** Load API keys for the desired services (e.g., `GOOGLE_API_KEY`, `DEEPSEEK_API_KEY`, `GROQ_API_KEY`).\n",
    "    2.  **Define Base URLs:** Specify the `base_url` for each provider's OpenAI-compatible endpoint.\n",
    "    3.  **Create Custom Clients:** For each provider, instantiate an `AsyncOpenAI` client, passing in its specific `base_url` and `api_key`.\n",
    "    4.  **Create Model Objects:** Instead of using a model name string (e.g., `\"gpt-4-mini\"`), create an instance of `OpenAIChatCompletionsModel` for each model. This object takes the model name (e.g., `\"gemini-pro\"`) and the custom client created in the previous step.\n",
    "    5.  **Assign to Agents:** When creating an agent, pass the corresponding `OpenAIChatCompletionsModel` object to the `model` parameter.\n",
    "\n",
    "*   **Example from the Lab:** The three sales agents were configured to use different models:\n",
    "    *   Agent 1: DeepSeek\n",
    "    *   Agent 2: Gemini\n",
    "    *   Agent 3: Llama 3 (via Grok's fast inference platform)\n",
    "\n",
    "*   **Note on Anthropic's Claude:** It was noted that Claude does not currently offer an OpenAI-compatible endpoint, making direct integration difficult. Workarounds include using third-party services like **Open Router** or waiting for future native support.\n",
    "\n",
    "---\n",
    "\n",
    "#### **3. Agent Instability and Asynchronous Execution**\n",
    "\n",
    "When running the multi-model SDR system, an important practical lesson emerged.\n",
    "\n",
    "*   **Non-Determinism:** The first run got stuck in a loop, taking several minutes and repeatedly calling the sales agents. This was attributed to the manager agent's instruction: *\"You can use the tools multiple times if you're not satisfied with the results.\"*\n",
    "*   **Key Takeaway:** This highlights the inherent **instability and non-deterministic nature** of autonomous agents. Developers must be aware of and explicitly code for potential infinite loops.\n",
    "*   **Parallel Execution:** The traces showed that the calls to the three different sales agents (DeepSeek, Gemini, Llama 3) were executed in **parallel** thanks to the framework's use of `asyncio`.\n",
    "\n",
    "---\n",
    "\n",
    "#### **4. Structured Outputs**\n",
    "\n",
    "This feature allows you to force an agent to respond with a structured object (like a JSON) instead of plain text, making the output more reliable and easier to parse.\n",
    "\n",
    "*   **How it Works:**\n",
    "    1.  Define a **Pydantic class** that specifies the exact schema of the desired output. For example, a `NameCheckOutput` class was created with two fields: `is_name_in_message: bool` and `name: str`.\n",
    "    2.  When creating an agent, pass this Pydantic class to the `output_type` parameter.\n",
    "*   **Benefit:** This eliminates the need for fragile string parsing and ensures the agent's output is predictable and programmatically usable.\n",
    "\n",
    "---\n",
    "\n",
    "#### **5. Guardrails for Agent Safety**\n",
    "\n",
    "Guardrails are safety checks to control agent inputs and outputs, preventing inappropriate content or behavior.\n",
    "\n",
    "*   **Core Concept:** A key feature is that **guardrails can be agents themselves**, allowing the use of an LLM to perform complex validation checks.\n",
    "*   **Placement:** Guardrails can only be applied at the two ends of the agent workflow:\n",
    "    *   **Input Guardrails:** Check the initial user prompt before the first agent begins processing.\n",
    "    *   **Output Guardrails:** Check the final result before it is returned to the user.\n",
    "*   **Implementation Example (Input Guardrail):**\n",
    "    1.  **Guardrail Agent:** An agent was created specifically to detect personal names in an input string. Its `output_type` was set to the `NameCheckOutput` Pydantic class (demonstrating the combination of structured outputs and guardrails).\n",
    "    2.  **Guardrail Function:** An `async` function was decorated with `@input_guardrail`.\n",
    "    3.  **Logic:** Inside this function, the guardrail agent was run on the input message. Based on the structured output from the agent, the function returns a `GuardrailFunctionOutput` object. If a name was detected, the object's `tripwire_triggered` attribute was set to `True`.\n",
    "*   **Behavior:** When the tripwire is triggered, the framework raises an exception (`GuardrailInputTriggered`), stopping the entire process.\n",
    "*   **Demonstration:**\n",
    "    *   **Test 1 (Failure):** A prompt including the name \"Alice\" was used. The guardrail correctly identified the name, triggered the tripwire, and the execution was halted with an exception.\n",
    "    *   **Test 2 (Success):** A prompt without a personal name was used. The guardrail passed, and the agent system ran successfully to completion.\n",
    "\n",
    "---\n",
    "\n",
    "#### **Day 3 Challenges and Next Steps**\n",
    "\n",
    "The session concluded with exercises to solidify the concepts learned:\n",
    "1.  **Experiment with more models** using the OpenAI-compatible endpoint method.\n",
    "2.  **Add more guardrails,** including an **output guardrail** (e.g., to check for outdated information like \"Copyright 2023\").\n",
    "3.  **Implement structured outputs** for the main email generation process, creating a Pydantic `Email` class with fields like `subject`, `body`, and `recipient`.\n",
    "\n",
    "The next project was teased: **building a deep research agent**."
   ]
  },
  {
   "cell_type": "code",
   "execution_count": null,
   "metadata": {},
   "outputs": [],
   "source": []
  },
  {
   "cell_type": "markdown",
   "metadata": {},
   "source": []
  }
 ],
 "metadata": {
  "kernelspec": {
   "display_name": "agents",
   "language": "python",
   "name": "python3"
  },
  "language_info": {
   "codemirror_mode": {
    "name": "ipython",
    "version": 3
   },
   "file_extension": ".py",
   "mimetype": "text/x-python",
   "name": "python",
   "nbconvert_exporter": "python",
   "pygments_lexer": "ipython3",
   "version": "3.12.11"
  }
 },
 "nbformat": 4,
 "nbformat_minor": 2
}
