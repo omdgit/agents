{
 "cells": [
  {
   "cell_type": "markdown",
   "metadata": {},
   "source": [
    "## Week 2 Day 2\n",
    "\n",
    "Our first Agentic Framework project!!\n",
    "\n",
    "Prepare yourself for something ridiculously easy.\n",
    "\n",
    "We're going to build a simple Agent system for generating cold sales outreach emails:\n",
    "1. Agent workflow\n",
    "2. Use of tools to call functions\n",
    "3. Agent collaboration via Tools and Handoffs"
   ]
  },
  {
   "cell_type": "markdown",
   "metadata": {},
   "source": [
    "## Before we start - some setup:\n",
    "\n",
    "\n",
    "Please visit Sendgrid at: https://sendgrid.com/\n",
    "\n",
    "(Sendgrid is a Twilio company for sending emails.)\n",
    "\n",
    "If SendGrid gives you problems, see the alternative implementation using \"Resend Email\" in community_contributions/2_lab2_with_resend_email\n",
    "\n",
    "Please set up an account - it's free! (at least, for me, right now).\n",
    "\n",
    "Once you've created an account, click on:\n",
    "\n",
    "Settings (left sidebar) >> API Keys >> Create API Key (button on top right)\n",
    "\n",
    "Copy the key to the clipboard, then add a new line to your .env file:\n",
    "\n",
    "`SENDGRID_API_KEY=xxxx`\n",
    "\n",
    "And also, within SendGrid, go to:\n",
    "\n",
    "Settings (left sidebar) >> Sender Authentication >> \"Verify a Single Sender\"  \n",
    "and verify that your own email address is a real email address, so that SendGrid can send emails for you.\n"
   ]
  },
  {
   "cell_type": "code",
   "execution_count": 9,
   "metadata": {},
   "outputs": [],
   "source": [
    "from dotenv import load_dotenv\n",
    "from agents import Agent, Runner, trace, function_tool\n",
    "from openai.types.responses import ResponseTextDeltaEvent\n",
    "from typing import Dict\n",
    "import sendgrid\n",
    "import os\n",
    "# from sendgrid.helpers.mail import Mail, Email, To, Content\n",
    "import brevo_python\n",
    "import asyncio\n",
    "\n",
    "import brevo_python\n",
    "from brevo_python.api import transactional_emails_api\n",
    "from brevo_python.models.send_smtp_email import SendSmtpEmail\n",
    "from brevo_python.models.send_smtp_email_to import SendSmtpEmailTo\n",
    "from brevo_python.models.send_smtp_email_sender import SendSmtpEmailSender"
   ]
  },
  {
   "cell_type": "code",
   "execution_count": 8,
   "metadata": {},
   "outputs": [
    {
     "data": {
      "text/plain": [
       "True"
      ]
     },
     "execution_count": 8,
     "metadata": {},
     "output_type": "execute_result"
    }
   ],
   "source": [
    "load_dotenv(override=True)"
   ]
  },
  {
   "cell_type": "code",
   "execution_count": null,
   "metadata": {},
   "outputs": [
    {
     "name": "stdout",
     "output_type": "stream",
     "text": [
      "Email sent successfully!\n",
      "Response: {'message_id': '<202507220057.21181128372@smtp-relay.mailin.fr>',\n",
      " 'message_ids': None}\n"
     ]
    }
   ],
   "source": [
    "def send_test_email_with_brevo():\n",
    "    # Configure the Brevo API client\n",
    "    configuration = brevo_python.Configuration()\n",
    "    # Ensure you have set the BREVO_API_KEY environment variable\n",
    "    api_key = os.environ.get('BREVO_API_KEY')\n",
    "    if not api_key:\n",
    "        raise ValueError(\"BREVO_API_KEY environment variable not set.\")\n",
    "    configuration.api_key['api-key'] = api_key\n",
    "\n",
    "    # Create an instance of the API class\n",
    "    api_instance = transactional_emails_api.TransactionalEmailsApi(brevo_python.ApiClient(configuration))\n",
    "\n",
    "    # Define the sender\n",
    "    # NOTE: This email MUST be a verified sender in your Brevo account.\n",
    "    sender = SendSmtpEmailSender(email=\"oliver@oliverdreger.cloud\", name=\"Oliver Dreger\")\n",
    "\n",
    "    # Define the recipient(s)\n",
    "    # The 'to' field is a list, so you can add multiple recipients\n",
    "    to = [SendSmtpEmailTo(email=\"oliver.dreger@gmail.com\", name=\"Oliver Dreger\")]\n",
    "\n",
    "    # Create the email object\n",
    "    send_smtp_email = SendSmtpEmail(\n",
    "        sender=sender,\n",
    "        to=to,\n",
    "        subject=\"Test email from Brevo\",\n",
    "        text_content=\"This is an important test email sent via the Brevo API.\"\n",
    "        # You can also use 'html_content' for HTML emails\n",
    "        # html_content=\"<html><body><h1>This is a test</h1></body></html>\"\n",
    "    )\n",
    "\n",
    "    # Send the email\n",
    "    try:\n",
    "        api_response = api_instance.send_transac_email(send_smtp_email)\n",
    "        print(\"Email sent successfully!\")\n",
    "        print(f\"Response: {api_response}\")\n",
    "        # In contrast to SendGrid's status code, a successful call here\n",
    "        # returns a result object. A failure will raise an exception.\n",
    "    except brevo_python.ApiException as e:\n",
    "        print(f\"Exception when calling TransactionalEmailsApi->send_transac_email: {e}\\n\")\n",
    "\n",
    "# Run the function to send the email\n",
    "send_test_email_with_brevo()"
   ]
  },
  {
   "cell_type": "code",
   "execution_count": null,
   "metadata": {},
   "outputs": [],
   "source": [
    "# Let's just check emails are working for you\n",
    "\n",
    "# def send_test_email():\n",
    "#     sg = sendgrid.SendGridAPIClient(api_key=os.environ.get('SENDGRID_API_KEY'))\n",
    "#     from_email = Email(\"ed@edwarddonner.com\")  # Change to your verified sender\n",
    "#     to_email = To(\"ed.donner@gmail.com\")  # Change to your recipient\n",
    "#     content = Content(\"text/plain\", \"This is an important test email\")\n",
    "#     mail = Mail(from_email, to_email, \"Test email\", content).get()\n",
    "#     response = sg.client.mail.send.post(request_body=mail)\n",
    "#     print(response.status_code)\n",
    "\n",
    "# send_test_email()"
   ]
  },
  {
   "cell_type": "code",
   "execution_count": 12,
   "metadata": {},
   "outputs": [
    {
     "name": "stdout",
     "output_type": "stream",
     "text": [
      "Email sent successfully!\n",
      "Response: {'message_id': '<202507230202.10706002148@smtp-relay.mailin.fr>',\n",
      " 'message_ids': None}\n"
     ]
    }
   ],
   "source": [
    "# Let's just check emails are working for you\n",
    "\n",
    "def send_test_email():\n",
    "    configuration = brevo_python.Configuration()\n",
    "    # Ensure you have set the BREVO_API_KEY environment variable\n",
    "    api_key = os.environ.get('BREVO_API_KEY')\n",
    "    if not api_key:\n",
    "        raise ValueError(\"BREVO_API_KEY environment variable not set.\")\n",
    "    configuration.api_key['api-key'] = api_key\n",
    "    api_instance = transactional_emails_api.TransactionalEmailsApi(brevo_python.ApiClient(configuration))\n",
    "    sender = SendSmtpEmailSender(email=\"oliver@oliverdreger.cloud\", name=\"Oliver Dreger\")\n",
    "    to = [SendSmtpEmailTo(email=\"oliver.dreger@gmail.com\", name=\"Oliver Dreger\")]\n",
    "    send_smtp_email = SendSmtpEmail(\n",
    "        sender=sender,\n",
    "        to=to,\n",
    "        subject=\"Test email from Brevo\",\n",
    "        text_content=\"This is an important test email.\"\n",
    "    )\n",
    "    try:\n",
    "        api_response = api_instance.send_transac_email(send_smtp_email)\n",
    "        print(\"Email sent successfully!\")\n",
    "        print(f\"Response: {api_response}\")\n",
    "    except brevo_python.ApiException as e:\n",
    "        print(f\"Exception when calling TransactionalEmailsApi->send_transac_email: {e}\\n\")\n",
    "    \n",
    "send_test_email()"
   ]
  },
  {
   "cell_type": "markdown",
   "metadata": {},
   "source": [
    "### Did you receive the test email\n",
    "\n",
    "If you get a 202, then you're good to go!\n",
    "\n",
    "If not, you'll need to check your API key and your verified sender email address in the SendGrid dashboard\n",
    "\n",
    "Or use the alternative implementation using \"Resend Email\" in community_contributions/2_lab2_with_resend_email\n",
    "\n",
    "(Or - you could always replace the email sending code below with something to simply write to a flat file)"
   ]
  },
  {
   "cell_type": "markdown",
   "metadata": {},
   "source": [
    "## Step 1: Agent workflow"
   ]
  },
  {
   "cell_type": "code",
   "execution_count": 13,
   "metadata": {},
   "outputs": [],
   "source": [
    "instructions1 = \"You are a sales agent working for ComplAI, \\\n",
    "a company that provides a SaaS tool for ensuring SOC2 compliance and preparing for audits, powered by AI. \\\n",
    "You write professional, serious cold emails.\"\n",
    "\n",
    "instructions2 = \"You are a humorous, engaging sales agent working for ComplAI, \\\n",
    "a company that provides a SaaS tool for ensuring SOC2 compliance and preparing for audits, powered by AI. \\\n",
    "You write witty, engaging cold emails that are likely to get a response.\"\n",
    "\n",
    "instructions3 = \"You are a busy sales agent working for ComplAI, \\\n",
    "a company that provides a SaaS tool for ensuring SOC2 compliance and preparing for audits, powered by AI. \\\n",
    "You write concise, to the point cold emails.\""
   ]
  },
  {
   "cell_type": "code",
   "execution_count": 14,
   "metadata": {},
   "outputs": [],
   "source": [
    "sales_agent1 = Agent(\n",
    "        name=\"Professional Sales Agent\",\n",
    "        instructions=instructions1,\n",
    "        model=\"gpt-4o-mini\"\n",
    ")\n",
    "\n",
    "sales_agent2 = Agent(\n",
    "        name=\"Engaging Sales Agent\",\n",
    "        instructions=instructions2,\n",
    "        model=\"gpt-4o-mini\"\n",
    ")\n",
    "\n",
    "sales_agent3 = Agent(\n",
    "        name=\"Busy Sales Agent\",\n",
    "        instructions=instructions3,\n",
    "        model=\"gpt-4o-mini\"\n",
    ")"
   ]
  },
  {
   "cell_type": "code",
   "execution_count": 15,
   "metadata": {},
   "outputs": [
    {
     "name": "stdout",
     "output_type": "stream",
     "text": [
      "Subject: Simplify Your SOC 2 Compliance Process with ComplAI\n",
      "\n",
      "Hi [Recipient's Name],\n",
      "\n",
      "I hope this message finds you well. My name is [Your Name], and I’m reaching out to introduce you to ComplAI, a powerful SaaS solution designed to streamline SOC 2 compliance and simplify the audit preparation process.\n",
      "\n",
      "As regulatory requirements continue to evolve, ensuring compliance can become increasingly complex. ComplAI utilizes advanced AI technology to automate documentation, track controls, and provide real-time insights, enabling organizations like yours to reduce the burden of compliance and focus on core business operations.\n",
      "\n",
      "Many of our clients have seen a significant decrease in the time and resources required to prepare for audits, allowing them to confidently demonstrate their commitment to data security. \n",
      "\n",
      "I would love the opportunity to discuss how ComplAI can specifically benefit your organization. Are you available for a brief call next week?\n",
      "\n",
      "Thank you for considering this opportunity. I look forward to your response.\n",
      "\n",
      "Best regards,\n",
      "\n",
      "[Your Name]  \n",
      "[Your Position]  \n",
      "ComplAI  \n",
      "[Your Phone Number]  \n",
      "[Your Email Address]  \n",
      "[Website URL]  "
     ]
    }
   ],
   "source": [
    "\n",
    "result = Runner.run_streamed(sales_agent1, input=\"Write a cold sales email\")\n",
    "async for event in result.stream_events():\n",
    "    if event.type == \"raw_response_event\" and isinstance(event.data, ResponseTextDeltaEvent):\n",
    "        print(event.data.delta, end=\"\", flush=True)"
   ]
  },
  {
   "cell_type": "code",
   "execution_count": 16,
   "metadata": {},
   "outputs": [
    {
     "name": "stdout",
     "output_type": "stream",
     "text": [
      "Subject: Simplify Your SOC 2 Compliance Journey with AI\n",
      "\n",
      "Hi [Recipient's Name],\n",
      "\n",
      "I hope this message finds you well. My name is [Your Name], and I’m with ComplAI, a leader in AI-driven compliance management.\n",
      "\n",
      "As organizations increasingly prioritize data security and regulatory compliance, the demands of maintaining SOC 2 certification can be daunting. Our SaaS solution offers a streamlined approach to managing your compliance process, helping you not only to prepare for audits but also to maintain ongoing adherence effortlessly.\n",
      "\n",
      "Key features of the ComplAI platform include:\n",
      "\n",
      "- **Automated Compliance Workflows**: Minimize manual effort with intelligent automations designed to keep you ahead of compliance requirements.\n",
      "- **Real-Time Monitoring**: Stay informed with continuous oversight of your compliance posture, reducing the risk of last-minute scrambles before audits.\n",
      "- **Comprehensive Documentation**: Easily generate and manage the necessary documentation to support your SOC 2 compliance.\n",
      "\n",
      "I would love to discuss how ComplAI can support your organization in achieving and maintaining SOC 2 compliance, thereby allowing you to focus on your core business objectives. \n",
      "\n",
      "Would you be available for a brief call next week? \n",
      "\n",
      "Thank you for your time, and I look forward to the possibility of working together.\n",
      "\n",
      "Best regards,\n",
      "\n",
      "[Your Name]  \n",
      "[Your Job Title]  \n",
      "ComplAI  \n",
      "[Your Phone Number]  \n",
      "[Your Email Address]  \n",
      "[Company Website URL]\n",
      "\n",
      "\n",
      "Subject: Is Your Compliance Budget as Tight as Your Trousers?\n",
      "\n",
      "Hey [Recipient's Name],\n",
      "\n",
      "I hope this email finds you doing fabulously—perhaps with a fresh cup of coffee and an impressive to-do list!\n",
      "\n",
      "Let’s be real for a second: Navigating SOC2 compliance can feel like trying to find a clean pair of socks in a monster laundry pile. You know it’s essential, but the process often leaves you feeling tangled up and frustrated.\n",
      "\n",
      "That’s where ComplAI swoops in like a superhero in a snazzy cape (but with more analytics and fewer dramatic monologues). Our AI-powered SaaS tool makes SOC2 compliance feel less like a gym membership you forgot to cancel and more like a breeze on a spring day.\n",
      "\n",
      "With ComplAI, you can:\n",
      "- Streamline compliance tasks that previously took hours (or days... or years).\n",
      "- Prepare for audits without needing a lifeguard on duty to save you from drowning in paperwork.\n",
      "- Basically turn compliance from a headache into a “heck yeah!”\n",
      "\n",
      "Let’s chat! I promise to keep it short, sweet, and WAY less painful than other compliance conversations you’ve had. How does [suggest a few days/times] sound?\n",
      "\n",
      "Best,  \n",
      "[Your Name]  \n",
      "[Your Title]  \n",
      "ComplAI – Where Compliance Meets Delight!\n",
      "\n",
      "\n",
      "Subject: Streamline Your SOC2 Compliance with AI\n",
      "\n",
      "Hi [Recipient's Name],\n",
      "\n",
      "I hope this message finds you well. At ComplAI, we understand that achieving SOC2 compliance can be complex and time-consuming. Our AI-powered SaaS tool simplifies the process, helping you prepare for audits with ease.\n",
      "\n",
      "By automating documentation, tracking controls, and providing real-time insights, we’ll help you save time and reduce risk.\n",
      "\n",
      "Would you be open to a brief call to explore how ComplAI can benefit your compliance journey?\n",
      "\n",
      "Best,  \n",
      "[Your Name]  \n",
      "[Your Position]  \n",
      "ComplAI  \n",
      "[Your Contact Information]\n",
      "\n",
      "\n"
     ]
    }
   ],
   "source": [
    "message = \"Write a cold sales email\"\n",
    "\n",
    "with trace(\"Parallel cold emails\"):\n",
    "    results = await asyncio.gather(\n",
    "        Runner.run(sales_agent1, message),\n",
    "        Runner.run(sales_agent2, message),\n",
    "        Runner.run(sales_agent3, message),\n",
    "    )\n",
    "\n",
    "outputs = [result.final_output for result in results]\n",
    "\n",
    "for output in outputs:\n",
    "    print(output + \"\\n\\n\")\n"
   ]
  },
  {
   "cell_type": "code",
   "execution_count": 17,
   "metadata": {},
   "outputs": [],
   "source": [
    "sales_picker = Agent(\n",
    "    name=\"sales_picker\",\n",
    "    instructions=\"You pick the best cold sales email from the given options. \\\n",
    "Imagine you are a customer and pick the one you are most likely to respond to. \\\n",
    "Do not give an explanation; reply with the selected email only.\",\n",
    "    model=\"gpt-4o-mini\"\n",
    ")"
   ]
  },
  {
   "cell_type": "code",
   "execution_count": 18,
   "metadata": {},
   "outputs": [
    {
     "name": "stdout",
     "output_type": "stream",
     "text": [
      "Best sales email:\n",
      "Subject: Is Your SOC2 Compliance Ready for the Next Audit or Just Playing Hide and Seek? 🤔\n",
      "\n",
      "Hi [Recipient's Name],\n",
      "\n",
      "Picture this: You’re sitting at your desk, calm as a cucumber, sipping your coffee, and suddenly—BAM! An audit notification drops like a surprise party you didn’t want to attend. 🎉\n",
      "\n",
      "Fear not! With ComplAI, you can turn that anxiety into confidence faster than you can say “SOC2 compliance.” Our AI-powered tool ensures you’re not just compliant but *audit-ready*—like a superhero who prepares for battle (cape not included).\n",
      "\n",
      "Here’s the deal:\n",
      "\n",
      "- **Effortless Documentation**: Say goodbye to endless spreadsheets and hello to organized bliss.\n",
      "- **Real-time Monitoring**: Catch issues before they become “Oh no!” moments.\n",
      "- **Tailored Support**: Our AI is like having a personal compliance coach (minus the yelling).\n",
      "\n",
      "Let’s chat about how we can make your compliance journey less of a hurdle and more of a stroll in the park. 🌳 Trust me, your future audit selves will thank you!\n",
      "\n",
      "Ready to turn that audit anxiety into audit envy? Hit reply and let’s schedule a quick chat!\n",
      "\n",
      "Best,  \n",
      "[Your Name]  \n",
      "[Your Position]  \n",
      "ComplAI  \n",
      "“Making Compliance Easy Peasy!”  \n",
      "\n",
      "P.S. I promise, no audits will be harmed in the making of this email! 😉\n"
     ]
    }
   ],
   "source": [
    "message = \"Write a cold sales email\"\n",
    "\n",
    "with trace(\"Selection from sales people\"):\n",
    "    results = await asyncio.gather(\n",
    "        Runner.run(sales_agent1, message),\n",
    "        Runner.run(sales_agent2, message),\n",
    "        Runner.run(sales_agent3, message),\n",
    "    )\n",
    "    outputs = [result.final_output for result in results]\n",
    "\n",
    "    emails = \"Cold sales emails:\\n\\n\".join(outputs)\n",
    "\n",
    "    best = await Runner.run(sales_picker, emails)\n",
    "\n",
    "    print(f\"Best sales email:\\n{best.final_output}\")\n"
   ]
  },
  {
   "cell_type": "markdown",
   "metadata": {},
   "source": [
    "Now go and check out the trace:\n",
    "\n",
    "https://platform.openai.com/traces"
   ]
  },
  {
   "cell_type": "markdown",
   "metadata": {},
   "source": [
    "## Part 2: use of tools\n",
    "\n",
    "Now we will add a tool to the mix.\n",
    "\n",
    "Remember all that json boilerplate and the `handle_tool_calls()` function with the if logic.."
   ]
  },
  {
   "cell_type": "code",
   "execution_count": 19,
   "metadata": {},
   "outputs": [],
   "source": [
    "sales_agent1 = Agent(\n",
    "        name=\"Professional Sales Agent\",\n",
    "        instructions=instructions1,\n",
    "        model=\"gpt-4o-mini\",\n",
    ")\n",
    "\n",
    "sales_agent2 = Agent(\n",
    "        name=\"Engaging Sales Agent\",\n",
    "        instructions=instructions2,\n",
    "        model=\"gpt-4o-mini\",\n",
    ")\n",
    "\n",
    "sales_agent3 = Agent(\n",
    "        name=\"Busy Sales Agent\",\n",
    "        instructions=instructions3,\n",
    "        model=\"gpt-4o-mini\",\n",
    ")"
   ]
  },
  {
   "cell_type": "code",
   "execution_count": 20,
   "metadata": {},
   "outputs": [
    {
     "data": {
      "text/plain": [
       "Agent(name='Professional Sales Agent', instructions='You are a sales agent working for ComplAI, a company that provides a SaaS tool for ensuring SOC2 compliance and preparing for audits, powered by AI. You write professional, serious cold emails.', prompt=None, handoff_description=None, handoffs=[], model='gpt-4o-mini', model_settings=ModelSettings(temperature=None, top_p=None, frequency_penalty=None, presence_penalty=None, tool_choice=None, parallel_tool_calls=None, truncation=None, max_tokens=None, reasoning=None, metadata=None, store=None, include_usage=None, extra_query=None, extra_body=None, extra_headers=None, extra_args=None), tools=[], mcp_servers=[], mcp_config={}, input_guardrails=[], output_guardrails=[], output_type=None, hooks=None, tool_use_behavior='run_llm_again', reset_tool_choice=True)"
      ]
     },
     "execution_count": 20,
     "metadata": {},
     "output_type": "execute_result"
    }
   ],
   "source": [
    "sales_agent1"
   ]
  },
  {
   "cell_type": "markdown",
   "metadata": {},
   "source": [
    "## Steps 2 and 3: Tools and Agent interactions\n",
    "\n",
    "Remember all that boilerplate json?\n",
    "\n",
    "Simply wrap your function with the decorator `@function_tool`"
   ]
  },
  {
   "cell_type": "code",
   "execution_count": 21,
   "metadata": {},
   "outputs": [],
   "source": [
    "# @function_tool\n",
    "# def send_email(body: str):\n",
    "#     \"\"\" Send out an email with the given body to all sales prospects \"\"\"\n",
    "#     sg = sendgrid.SendGridAPIClient(api_key=os.environ.get('SENDGRID_API_KEY'))\n",
    "#     from_email = Email(\"oliver@oliverdreger.cloud\")  # Change to your verified sender\n",
    "#     to_email = To(\"oliver.dreger@gmail.com\")  # Change to your recipient\n",
    "#     content = Content(\"text/plain\", body)\n",
    "#     mail = Mail(from_email, to_email, \"Sales email\", content).get()\n",
    "#     sg.client.mail.send.post(request_body=mail)\n",
    "#     return {\"status\": \"success\"}\n",
    "\n",
    "# rewrite send_email function to use Brevo\n",
    "@function_tool\n",
    "def send_email(body: str):\n",
    "    \"\"\" Send out an email with the given body to all sales prospects \"\"\"\n",
    "    configuration = brevo_python.Configuration()\n",
    "    api_key = os.environ.get('BREVO_API_KEY')\n",
    "    if not api_key:\n",
    "        raise ValueError(\"BREVO_API_KEY environment variable not set.\")\n",
    "    configuration.api_key['api-key'] = api_key\n",
    "    api_instance = transactional_emails_api.TransactionalEmailsApi(brevo_python.ApiClient(configuration))\n",
    "    sender = SendSmtpEmailSender(email=\"oliver@oliverdreger.cloud\", name=\"Oliver Dreger\")\n",
    "    to = [SendSmtpEmailTo(email=\"oliver.dreger@gmail.com\", name=\"Oliver Dreger\")]\n",
    "    send_smtp_email = SendSmtpEmail(\n",
    "        sender=sender,\n",
    "        to=to,\n",
    "        subject=\"Sales email\",\n",
    "        text_content=body\n",
    "    )\n",
    "    try:\n",
    "        api_response = api_instance.send_transac_email(send_smtp_email)\n",
    "        print(\"Email sent successfully!\")\n",
    "        print(f\"Response: {api_response}\")\n",
    "    except brevo_python.ApiException as e:\n",
    "        print(f\"Exception when calling TransactionalEmailsApi->send_transac_email: {e}\\n\")\n",
    "    return {\"status\": \"success\"}"
   ]
  },
  {
   "cell_type": "markdown",
   "metadata": {},
   "source": [
    "### This has automatically been converted into a tool, with the boilerplate json created"
   ]
  },
  {
   "cell_type": "code",
   "execution_count": 22,
   "metadata": {},
   "outputs": [
    {
     "data": {
      "text/plain": [
       "FunctionTool(name='send_email', description='Send out an email with the given body to all sales prospects', params_json_schema={'properties': {'body': {'title': 'Body', 'type': 'string'}}, 'required': ['body'], 'title': 'send_email_args', 'type': 'object', 'additionalProperties': False}, on_invoke_tool=<function function_tool.<locals>._create_function_tool.<locals>._on_invoke_tool at 0x10a7b4ea0>, strict_json_schema=True, is_enabled=True)"
      ]
     },
     "execution_count": 22,
     "metadata": {},
     "output_type": "execute_result"
    }
   ],
   "source": [
    "# Let's look at it\n",
    "send_email"
   ]
  },
  {
   "cell_type": "markdown",
   "metadata": {},
   "source": [
    "### And you can also convert an Agent into a tool"
   ]
  },
  {
   "cell_type": "code",
   "execution_count": 23,
   "metadata": {},
   "outputs": [
    {
     "data": {
      "text/plain": [
       "FunctionTool(name='sales_agent1', description='Write a cold sales email', params_json_schema={'properties': {'input': {'title': 'Input', 'type': 'string'}}, 'required': ['input'], 'title': 'sales_agent1_args', 'type': 'object', 'additionalProperties': False}, on_invoke_tool=<function function_tool.<locals>._create_function_tool.<locals>._on_invoke_tool at 0x10426ef20>, strict_json_schema=True, is_enabled=True)"
      ]
     },
     "execution_count": 23,
     "metadata": {},
     "output_type": "execute_result"
    }
   ],
   "source": [
    "tool1 = sales_agent1.as_tool(tool_name=\"sales_agent1\", tool_description=\"Write a cold sales email\")\n",
    "tool1"
   ]
  },
  {
   "cell_type": "markdown",
   "metadata": {},
   "source": [
    "### So now we can gather all the tools together:\n",
    "\n",
    "A tool for each of our 3 email-writing agents\n",
    "\n",
    "And a tool for our function to send emails"
   ]
  },
  {
   "cell_type": "code",
   "execution_count": 24,
   "metadata": {},
   "outputs": [
    {
     "data": {
      "text/plain": [
       "[FunctionTool(name='sales_agent1', description='Write a cold sales email', params_json_schema={'properties': {'input': {'title': 'Input', 'type': 'string'}}, 'required': ['input'], 'title': 'sales_agent1_args', 'type': 'object', 'additionalProperties': False}, on_invoke_tool=<function function_tool.<locals>._create_function_tool.<locals>._on_invoke_tool at 0x10cb663e0>, strict_json_schema=True, is_enabled=True),\n",
       " FunctionTool(name='sales_agent2', description='Write a cold sales email', params_json_schema={'properties': {'input': {'title': 'Input', 'type': 'string'}}, 'required': ['input'], 'title': 'sales_agent2_args', 'type': 'object', 'additionalProperties': False}, on_invoke_tool=<function function_tool.<locals>._create_function_tool.<locals>._on_invoke_tool at 0x10cb65120>, strict_json_schema=True, is_enabled=True),\n",
       " FunctionTool(name='sales_agent3', description='Write a cold sales email', params_json_schema={'properties': {'input': {'title': 'Input', 'type': 'string'}}, 'required': ['input'], 'title': 'sales_agent3_args', 'type': 'object', 'additionalProperties': False}, on_invoke_tool=<function function_tool.<locals>._create_function_tool.<locals>._on_invoke_tool at 0x10cb66340>, strict_json_schema=True, is_enabled=True),\n",
       " FunctionTool(name='send_email', description='Send out an email with the given body to all sales prospects', params_json_schema={'properties': {'body': {'title': 'Body', 'type': 'string'}}, 'required': ['body'], 'title': 'send_email_args', 'type': 'object', 'additionalProperties': False}, on_invoke_tool=<function function_tool.<locals>._create_function_tool.<locals>._on_invoke_tool at 0x10a7b4ea0>, strict_json_schema=True, is_enabled=True)]"
      ]
     },
     "execution_count": 24,
     "metadata": {},
     "output_type": "execute_result"
    }
   ],
   "source": [
    "description = \"Write a cold sales email\"\n",
    "\n",
    "tool1 = sales_agent1.as_tool(tool_name=\"sales_agent1\", tool_description=description)\n",
    "tool2 = sales_agent2.as_tool(tool_name=\"sales_agent2\", tool_description=description)\n",
    "tool3 = sales_agent3.as_tool(tool_name=\"sales_agent3\", tool_description=description)\n",
    "\n",
    "tools = [tool1, tool2, tool3, send_email]\n",
    "\n",
    "tools"
   ]
  },
  {
   "cell_type": "markdown",
   "metadata": {},
   "source": [
    "## And now it's time for our Sales Manager - our planning agent"
   ]
  },
  {
   "cell_type": "code",
   "execution_count": 26,
   "metadata": {},
   "outputs": [
    {
     "name": "stdout",
     "output_type": "stream",
     "text": [
      "Email sent successfully!\n",
      "Response: {'message_id': '<202507230216.74001088679@smtp-relay.mailin.fr>',\n",
      " 'message_ids': None}\n"
     ]
    }
   ],
   "source": [
    "instructions =\"You are a sales manager working for ComplAI. You use the tools given to you to generate cold sales emails. \\\n",
    "You never generate sales emails yourself; you always use the tools. \\\n",
    "You try all 3 sales_agent tools once before choosing the best one. \\\n",
    "You pick the single best email and use the send_email tool to send the best email (and only the best email) to the user.\"\n",
    "\n",
    "\n",
    "sales_manager = Agent(name=\"Sales Manager\", instructions=instructions, tools=tools, model=\"gpt-4o-mini\")\n",
    "\n",
    "message = \"Send a cold sales email addressed to 'Dear CEO'\"\n",
    "\n",
    "with trace(\"Sales manager\"):\n",
    "    result = await Runner.run(sales_manager, message)"
   ]
  },
  {
   "cell_type": "markdown",
   "metadata": {},
   "source": [
    "<table style=\"margin: 0; text-align: left; width:100%\">\n",
    "    <tr>\n",
    "        <td style=\"width: 150px; height: 150px; vertical-align: middle;\">\n",
    "            <img src=\"../../assets/stop.png\" width=\"150\" height=\"150\" style=\"display: block;\" />\n",
    "        </td>\n",
    "        <td>\n",
    "            <h2 style=\"color:#ff7800;\">Wait - you didn't get an email??</h2>\n",
    "            <span style=\"color:#ff7800;\">With much thanks to student Chris S. for describing his issue and fixes. \n",
    "            If you don't receive an email after running the prior cell, here are some things to check: <br/>\n",
    "            First, check your Spam folder! Several students have missed that the emails arrived in Spam!<br/>Second, print(result) and see if you are receiving errors about SSL. \n",
    "            If you're receiving SSL errors, then please check out theses <a href=\"https://chatgpt.com/share/680620ec-3b30-8012-8c26-ca86693d0e3d\">networking tips</a> and see the note in the next cell. Also look at the trace in OpenAI, and investigate on the SendGrid website, to hunt for clues. Let me know if I can help!\n",
    "            </span>\n",
    "        </td>\n",
    "    </tr>\n",
    "</table>"
   ]
  },
  {
   "cell_type": "markdown",
   "metadata": {},
   "source": [
    "### And one more suggestion to send emails from student Oleksandr on Windows 11:\n",
    "\n",
    "If you are getting certificate SSL errors, then:  \n",
    "Run this in a terminal: `uv pip install --upgrade certifi`\n",
    "\n",
    "Then run this code:\n",
    "```python\n",
    "import certifi\n",
    "import os\n",
    "os.environ['SSL_CERT_FILE'] = certifi.where()\n",
    "```\n",
    "\n",
    "Thank you Oleksandr!"
   ]
  },
  {
   "cell_type": "markdown",
   "metadata": {},
   "source": [
    "## Remember to check the trace\n",
    "\n",
    "https://platform.openai.com/traces\n",
    "\n",
    "And then check your email!!\n"
   ]
  },
  {
   "cell_type": "markdown",
   "metadata": {},
   "source": [
    "### Handoffs represent a way an agent can delegate to an agent, passing control to it\n",
    "\n",
    "Handoffs and Agents-as-tools are similar:\n",
    "\n",
    "In both cases, an Agent can collaborate with another Agent\n",
    "\n",
    "With tools, control passes back\n",
    "\n",
    "With handoffs, control passes across\n",
    "\n"
   ]
  },
  {
   "cell_type": "code",
   "execution_count": 27,
   "metadata": {},
   "outputs": [],
   "source": [
    "\n",
    "subject_instructions = \"You can write a subject for a cold sales email. \\\n",
    "You are given a message and you need to write a subject for an email that is likely to get a response.\"\n",
    "\n",
    "html_instructions = \"You can convert a text email body to an HTML email body. \\\n",
    "You are given a text email body which might have some markdown \\\n",
    "and you need to convert it to an HTML email body with simple, clear, compelling layout and design.\"\n",
    "\n",
    "subject_writer = Agent(name=\"Email subject writer\", instructions=subject_instructions, model=\"gpt-4o-mini\")\n",
    "subject_tool = subject_writer.as_tool(tool_name=\"subject_writer\", tool_description=\"Write a subject for a cold sales email\")\n",
    "\n",
    "html_converter = Agent(name=\"HTML email body converter\", instructions=html_instructions, model=\"gpt-4o-mini\")\n",
    "html_tool = html_converter.as_tool(tool_name=\"html_converter\",tool_description=\"Convert a text email body to an HTML email body\")\n"
   ]
  },
  {
   "cell_type": "code",
   "execution_count": 28,
   "metadata": {},
   "outputs": [],
   "source": [
    "# @function_tool\n",
    "# def send_html_email(subject: str, html_body: str) -> Dict[str, str]:\n",
    "#     \"\"\" Send out an email with the given subject and HTML body to all sales prospects \"\"\"\n",
    "#     sg = sendgrid.SendGridAPIClient(api_key=os.environ.get('SENDGRID_API_KEY'))\n",
    "#     from_email = Email(\"oliver@oliverdreger.cloud\")  # Change to your verified sender\n",
    "#     to_email = To(\"oliver.dreger@gmail.com\")  # Change to your recipient\n",
    "#     content = Content(\"text/html\", html_body)\n",
    "#     mail = Mail(from_email, to_email, subject, content).get()\n",
    "#     sg.client.mail.send.post(request_body=mail)\n",
    "#     return {\"status\": \"success\"}\n",
    "\n",
    "# rewrite send_html_email function to use Brevo\n",
    "@function_tool\n",
    "def send_html_email(subject: str, html_body: str) -> Dict[str, str]:\n",
    "    \"\"\" Send out an email with the given subject and HTML body to all sales prospects \"\"\"\n",
    "    configuration = brevo_python.Configuration()\n",
    "    api_key = os.environ.get('BREVO_API_KEY')\n",
    "    if not api_key:\n",
    "        raise ValueError(\"BREVO_API_KEY environment variable not set.\")\n",
    "    configuration.api_key['api-key'] = api_key\n",
    "    api_instance = transactional_emails_api.TransactionalEmailsApi(brevo_python.ApiClient(configuration))\n",
    "    sender = SendSmtpEmailSender(email=\"oliver@oliverdreger.cloud\", name=\"Oliver Dreger\")\n",
    "    to = [SendSmtpEmailTo(email=\"oliver.dreger@gmail.com\", name=\"Oliver Dreger\")]\n",
    "    send_smtp_email = SendSmtpEmail(\n",
    "        sender=sender,\n",
    "        to=to,\n",
    "        subject=subject,\n",
    "        html_content=html_body\n",
    "    )\n",
    "    try:\n",
    "        api_response = api_instance.send_transac_email(send_smtp_email)\n",
    "        print(\"Email sent successfully!\")\n",
    "        print(f\"Response: {api_response}\")\n",
    "    except brevo_python.ApiException as e:\n",
    "        print(f\"Exception when calling TransactionalEmailsApi->send_transac_email: {e}\\n\")\n",
    "    return {\"status\": \"success\"}"
   ]
  },
  {
   "cell_type": "code",
   "execution_count": 29,
   "metadata": {},
   "outputs": [],
   "source": [
    "tools = [subject_tool, html_tool, send_html_email]"
   ]
  },
  {
   "cell_type": "code",
   "execution_count": 30,
   "metadata": {},
   "outputs": [
    {
     "data": {
      "text/plain": [
       "[FunctionTool(name='subject_writer', description='Write a subject for a cold sales email', params_json_schema={'properties': {'input': {'title': 'Input', 'type': 'string'}}, 'required': ['input'], 'title': 'subject_writer_args', 'type': 'object', 'additionalProperties': False}, on_invoke_tool=<function function_tool.<locals>._create_function_tool.<locals>._on_invoke_tool at 0x10cb66700>, strict_json_schema=True, is_enabled=True),\n",
       " FunctionTool(name='html_converter', description='Convert a text email body to an HTML email body', params_json_schema={'properties': {'input': {'title': 'Input', 'type': 'string'}}, 'required': ['input'], 'title': 'html_converter_args', 'type': 'object', 'additionalProperties': False}, on_invoke_tool=<function function_tool.<locals>._create_function_tool.<locals>._on_invoke_tool at 0x10cb64b80>, strict_json_schema=True, is_enabled=True),\n",
       " FunctionTool(name='send_html_email', description='Send out an email with the given subject and HTML body to all sales prospects', params_json_schema={'properties': {'subject': {'title': 'Subject', 'type': 'string'}, 'html_body': {'title': 'Html Body', 'type': 'string'}}, 'required': ['subject', 'html_body'], 'title': 'send_html_email_args', 'type': 'object', 'additionalProperties': False}, on_invoke_tool=<function function_tool.<locals>._create_function_tool.<locals>._on_invoke_tool at 0x1096c6200>, strict_json_schema=True, is_enabled=True)]"
      ]
     },
     "execution_count": 30,
     "metadata": {},
     "output_type": "execute_result"
    }
   ],
   "source": [
    "tools"
   ]
  },
  {
   "cell_type": "code",
   "execution_count": 31,
   "metadata": {},
   "outputs": [],
   "source": [
    "instructions =\"You are an email formatter and sender. You receive the body of an email to be sent. \\\n",
    "You first use the subject_writer tool to write a subject for the email, then use the html_converter tool to convert the body to HTML. \\\n",
    "Finally, you use the send_html_email tool to send the email with the subject and HTML body.\"\n",
    "\n",
    "\n",
    "emailer_agent = Agent(\n",
    "    name=\"Email Manager\",\n",
    "    instructions=instructions,\n",
    "    tools=tools,\n",
    "    model=\"gpt-4o-mini\",\n",
    "    handoff_description=\"Convert an email to HTML and send it\")\n"
   ]
  },
  {
   "cell_type": "markdown",
   "metadata": {},
   "source": [
    "### Now we have 3 tools and 1 handoff"
   ]
  },
  {
   "cell_type": "code",
   "execution_count": 32,
   "metadata": {},
   "outputs": [
    {
     "name": "stdout",
     "output_type": "stream",
     "text": [
      "[FunctionTool(name='sales_agent1', description='Write a cold sales email', params_json_schema={'properties': {'input': {'title': 'Input', 'type': 'string'}}, 'required': ['input'], 'title': 'sales_agent1_args', 'type': 'object', 'additionalProperties': False}, on_invoke_tool=<function function_tool.<locals>._create_function_tool.<locals>._on_invoke_tool at 0x10cb663e0>, strict_json_schema=True, is_enabled=True), FunctionTool(name='sales_agent2', description='Write a cold sales email', params_json_schema={'properties': {'input': {'title': 'Input', 'type': 'string'}}, 'required': ['input'], 'title': 'sales_agent2_args', 'type': 'object', 'additionalProperties': False}, on_invoke_tool=<function function_tool.<locals>._create_function_tool.<locals>._on_invoke_tool at 0x10cb65120>, strict_json_schema=True, is_enabled=True), FunctionTool(name='sales_agent3', description='Write a cold sales email', params_json_schema={'properties': {'input': {'title': 'Input', 'type': 'string'}}, 'required': ['input'], 'title': 'sales_agent3_args', 'type': 'object', 'additionalProperties': False}, on_invoke_tool=<function function_tool.<locals>._create_function_tool.<locals>._on_invoke_tool at 0x10cb66340>, strict_json_schema=True, is_enabled=True)]\n",
      "[Agent(name='Email Manager', instructions='You are an email formatter and sender. You receive the body of an email to be sent. You first use the subject_writer tool to write a subject for the email, then use the html_converter tool to convert the body to HTML. Finally, you use the send_html_email tool to send the email with the subject and HTML body.', prompt=None, handoff_description='Convert an email to HTML and send it', handoffs=[], model='gpt-4o-mini', model_settings=ModelSettings(temperature=None, top_p=None, frequency_penalty=None, presence_penalty=None, tool_choice=None, parallel_tool_calls=None, truncation=None, max_tokens=None, reasoning=None, metadata=None, store=None, include_usage=None, extra_query=None, extra_body=None, extra_headers=None, extra_args=None), tools=[FunctionTool(name='subject_writer', description='Write a subject for a cold sales email', params_json_schema={'properties': {'input': {'title': 'Input', 'type': 'string'}}, 'required': ['input'], 'title': 'subject_writer_args', 'type': 'object', 'additionalProperties': False}, on_invoke_tool=<function function_tool.<locals>._create_function_tool.<locals>._on_invoke_tool at 0x10cb66700>, strict_json_schema=True, is_enabled=True), FunctionTool(name='html_converter', description='Convert a text email body to an HTML email body', params_json_schema={'properties': {'input': {'title': 'Input', 'type': 'string'}}, 'required': ['input'], 'title': 'html_converter_args', 'type': 'object', 'additionalProperties': False}, on_invoke_tool=<function function_tool.<locals>._create_function_tool.<locals>._on_invoke_tool at 0x10cb64b80>, strict_json_schema=True, is_enabled=True), FunctionTool(name='send_html_email', description='Send out an email with the given subject and HTML body to all sales prospects', params_json_schema={'properties': {'subject': {'title': 'Subject', 'type': 'string'}, 'html_body': {'title': 'Html Body', 'type': 'string'}}, 'required': ['subject', 'html_body'], 'title': 'send_html_email_args', 'type': 'object', 'additionalProperties': False}, on_invoke_tool=<function function_tool.<locals>._create_function_tool.<locals>._on_invoke_tool at 0x1096c6200>, strict_json_schema=True, is_enabled=True)], mcp_servers=[], mcp_config={}, input_guardrails=[], output_guardrails=[], output_type=None, hooks=None, tool_use_behavior='run_llm_again', reset_tool_choice=True)]\n"
     ]
    }
   ],
   "source": [
    "tools = [tool1, tool2, tool3]\n",
    "handoffs = [emailer_agent]\n",
    "print(tools)\n",
    "print(handoffs)"
   ]
  },
  {
   "cell_type": "code",
   "execution_count": 33,
   "metadata": {},
   "outputs": [
    {
     "name": "stdout",
     "output_type": "stream",
     "text": [
      "Email sent successfully!\n",
      "Response: {'message_id': '<202507230218.11754230468@smtp-relay.mailin.fr>',\n",
      " 'message_ids': None}\n"
     ]
    }
   ],
   "source": [
    "sales_manager_instructions = \"You are a sales manager working for ComplAI. You use the tools given to you to generate cold sales emails. \\\n",
    "You never generate sales emails yourself; you always use the tools. \\\n",
    "You try all 3 sales agent tools at least once before choosing the best one. \\\n",
    "You can use the tools multiple times if you're not satisfied with the results from the first try. \\\n",
    "You select the single best email using your own judgement of which email will be most effective. \\\n",
    "After picking the email, you handoff to the Email Manager agent to format and send the email.\"\n",
    "\n",
    "\n",
    "sales_manager = Agent(\n",
    "    name=\"Sales Manager\",\n",
    "    instructions=sales_manager_instructions,\n",
    "    tools=tools,\n",
    "    handoffs=handoffs,\n",
    "    model=\"gpt-4o-mini\")\n",
    "\n",
    "message = \"Send out a cold sales email addressed to Dear CEO from Alice\"\n",
    "\n",
    "with trace(\"Automated SDR\"):\n",
    "    result = await Runner.run(sales_manager, message)"
   ]
  },
  {
   "cell_type": "markdown",
   "metadata": {},
   "source": [
    "### Remember to check the trace\n",
    "\n",
    "https://platform.openai.com/traces\n",
    "\n",
    "And then check your email!!"
   ]
  },
  {
   "cell_type": "markdown",
   "metadata": {},
   "source": [
    "<table style=\"margin: 0; text-align: left; width:100%\">\n",
    "    <tr>\n",
    "        <td style=\"width: 150px; height: 150px; vertical-align: middle;\">\n",
    "            <img src=\"../../assets/exercise.png\" width=\"150\" height=\"150\" style=\"display: block;\" />\n",
    "        </td>\n",
    "        <td>\n",
    "            <h2 style=\"color:#ff7800;\">Exercise</h2>\n",
    "            <span style=\"color:#ff7800;\">Can you identify the Agentic design patterns that were used here?<br/>\n",
    "            What is the 1 line that changed this from being an Agentic \"workflow\" to \"agent\" under Anthropic's definition?<br/>\n",
    "            Try adding in more tools and Agents! You could have tools that handle the mail merge to send to a list.<br/><br/>\n",
    "            HARD CHALLENGE: research how you can have SendGrid call a Callback webhook when a user replies to an email,\n",
    "            Then have the SDR respond to keep the conversation going! This may require some \"vibe coding\" 😂\n",
    "            </span>\n",
    "        </td>\n",
    "    </tr>\n",
    "</table>"
   ]
  },
  {
   "cell_type": "markdown",
   "metadata": {},
   "source": [
    "<table style=\"margin: 0; text-align: left; width:100%\">\n",
    "    <tr>\n",
    "        <td style=\"width: 150px; height: 150px; vertical-align: middle;\">\n",
    "            <img src=\"../../assets/business.png\" width=\"150\" height=\"150\" style=\"display: block;\" />\n",
    "        </td>\n",
    "        <td>\n",
    "            <h2 style=\"color:#00bfff;\">Commercial implications</h2>\n",
    "            <span style=\"color:#00bfff;\">This is immediately applicable to Sales Automation; but more generally this could be applied to  end-to-end automation of any business process through conversations and tools. Think of ways you could apply an Agent solution\n",
    "            like this in your day job.\n",
    "            </span>\n",
    "        </td>\n",
    "    </tr>\n",
    "</table>"
   ]
  },
  {
   "cell_type": "markdown",
   "metadata": {},
   "source": [
    "## Extra note:\n",
    "\n",
    "Google has released their Agent Development Kit (ADK). It's not yet got the traction of the other frameworks on this course, but it's getting some attention. It's interesting to note that it looks quite similar to OpenAI Agents SDK. To give you a preview, here's a peak at sample code from ADK:\n",
    "\n",
    "```\n",
    "root_agent = Agent(\n",
    "    name=\"weather_time_agent\",\n",
    "    model=\"gemini-2.0-flash\",\n",
    "    description=\"Agent to answer questions about the time and weather in a city.\",\n",
    "    instruction=\"You are a helpful agent who can answer user questions about the time and weather in a city.\",\n",
    "    tools=[get_weather, get_current_time]\n",
    ")\n",
    "```\n",
    "\n",
    "Well, that looks familiar!\n",
    "\n",
    "And a student has contributed a customer care agent in community_contributions that uses ADK."
   ]
  },
  {
   "cell_type": "markdown",
   "metadata": {},
   "source": [
    "--- \n",
    "# Transcript Summary \n",
    "\n",
    "--- \n",
    "\n",
    "## Build AI Sales Agents with SendGrid: Tools & Collaboration in Agent SDK\n",
    "\n",
    "### Introduction and Project Goal\n",
    "\n",
    "*   **Context:** This is the beginning of Day 2, Week 2. The session is hands-on and focused on building the first project using the OpenAI Agents SDK.\n",
    "*   **Project:** The goal is to build a Sales Development Rep (SDR) agent.\n",
    "*   **Layered Approach:** The project will be constructed in three distinct layers of increasing complexity:\n",
    "    1.  A simple workflow of agent calls, orchestrated manually.\n",
    "    2.  An agent that can use a tool (contrasting with the manual JSON method from Week 1).\n",
    "    3.  Agents that collaborate with other agents, which will be achieved in two different ways: by treating agents as tools, and by using \"handoffs.\"\n",
    "\n",
    "### Tool Setup: SendGrid\n",
    "\n",
    "*   **Tool Introduction:** The lab begins by setting up a tool called **SendGrid**.\n",
    "    *   SendGrid is a service for sending transactional emails. It is owned by Twilio and is similar to services like SparkPost.\n",
    "    *   It is free to start.\n",
    "*   **Setup Instructions:** A precise, step-by-step guide is provided for setting up a SendGrid account:\n",
    "    1.  Visit the SendGrid website and sign up for a free account.\n",
    "    2.  Once logged in, navigate to **Settings -> API Keys**.\n",
    "    3.  Create a new API key and copy it to your clipboard.\n",
    "    4.  Navigate to **Settings -> Sender Authentication**.\n",
    "    5.  Click \"Verify a single sender\" and follow the process to verify ownership of your personal email address. This allows you to send emails *from* that address.\n",
    "*   **Project Scope:** The speaker clarifies that this setup is for experimental purposes only; the project will only involve sending emails back to yourself, not actual cold emails to others.\n",
    "*   **Environment Configuration:** The final step is to edit the `.env` file and add a new line: `SENDGRID_API_KEY=` followed by the copied API key.\n",
    "\n",
    "### Agent Creation and Workflow\n",
    "\n",
    "*   **Imports:** The necessary libraries are imported, including `agents`, `FunctionTool`, a helper for streaming text, and SendGrid-specific modules.\n",
    "*   **Defining Agent Personas:** The first part of the project involves a simple, manually orchestrated workflow. Three distinct agent instructions (system prompts) are created for a fictional SOC 2 compliance company called \"ComplyAI\":\n",
    "    1.  **Professional Agent:** Writes \"professional, serious\" cold emails.\n",
    "    2.  **Humorous Agent:** Writes \"witty, engaging\" cold emails designed to get a response.\n",
    "    3.  **Concise Agent:** Writes \"concise, to the point\" emails, adopting the persona of a busy sales agent.\n",
    "*   **Instantiating Agents:** Three agent objects are created (`sales_agent_one`, `two`, `three`), each initialized with its unique name, its corresponding instruction set, and the `gpt-4o-mini` model to keep costs low.\n",
    "\n",
    "### Running an Agent with Streaming\n",
    "\n",
    "*   **Introducing Streaming:** A new method for running agents is introduced: `runner.run_streamed()`. This allows the agent's response to be streamed back bit by bit, rather than waiting for the full response.\n",
    "*   **Technical Details:**\n",
    "    *   The `runner.run_streamed()` call does not use `await`, which means it returns a **coroutine** object, not an immediate result.\n",
    "    *   To process this coroutine, a special `async for` loop is used to iterate through the streamed data chunks.\n",
    "    *   Boilerplate code inside the loop checks if a chunk is text and prints it to the console without creating a new line for each chunk, resulting in a smooth, continuous output.\n",
    "*   **Live Demonstration:** The code is run for the first agent (the professional one). As expected, the response streams back to the console. The resulting email is high-quality, professional, and well-suited for its purpose, demonstrating that LLMs are very effective at this kind of task."
   ]
  },
  {
   "cell_type": "markdown",
   "metadata": {},
   "source": [
    "--- \n",
    "\n",
    "## Concurrent LLM Call: Implementing Asyncio for Parallel Agent Execution \n",
    "\n",
    "### Implementing Concurrent Agent Execution with `asyncio`\n",
    "\n",
    "*   **Goal:** To run multiple agents simultaneously to generate different versions of a sales email.\n",
    "*   **Method:** The `asyncio.gather()` function is used. This is a key feature for asynchronous programming in Python.\n",
    "*   **Technical Explanation:**\n",
    "    *   The speaker clarifies that `asyncio` is not true multithreading (where the CPU time-slices). Instead, it uses an **event loop**.\n",
    "    *   When one agent's process is paused waiting for I/O (like an API response from OpenAI), the event loop switches to run another agent's process.\n",
    "    *   Since most of the time is spent waiting on I/O, this allows all three agents to effectively run in parallel, significantly speeding up the process.\n",
    "*   **Implementation:**\n",
    "    *   The `runner.run()` method is called for each of the three sales agents.\n",
    "    *   These three function calls are wrapped inside `asyncio.gather()`.\n",
    "    *   The entire block is awaited, which collects the results from all three parallel runs once they complete.\n",
    "    *   The results are then printed, showing three different emails, with the third one being notably concise as per its instructions.\n",
    "\n",
    "### Creating a \"Picker\" Agent Workflow\n",
    "\n",
    "*   **Next Step:** A new agent, named `sales_picker`, is created to act as a final evaluation step.\n",
    "*   **Agent's Prompt/Instructions:**\n",
    "    *   Its task is to pick the \"best\" cold sales email from the options provided.\n",
    "    *   It's instructed to act like a customer and choose the email it would be most likely to respond to.\n",
    "    *   A classic prompting technique is used: a final constraint is added, telling it, \"Don't give an explanation. Reply with the email you select only.\"\n",
    "*   **Workflow Orchestration:**\n",
    "    1.  The three sales agents are run in parallel using `asyncio.gather()` to generate three email drafts.\n",
    "    2.  The collected outputs from the three agents are passed to the `sales_picker` agent.\n",
    "    3.  This entire multi-step process is wrapped in a single **trace**, allowing for unified observability.\n",
    "*   **Result & Tracing:** The `sales_picker` returns a single email. The speaker then clicks a link to view the trace in the OpenAI platform, which visualizes the entire workflow: the parallel calls to the three sales agents followed by the single call to the picker agent, demonstrating clear and elegant observability.\n",
    "\n",
    "### Transitioning to Agent Tool Use\n",
    "\n",
    "*   **Recap and Critique of Week 1:** The speaker contrasts the current elegant workflow with the manual process from Week 1.\n",
    "    *   In Week 1, creating a tool required writing \"chunky,\" \"boilerplate\" JSON to describe the function, its parameters, etc.\n",
    "    *   It also required writing a `handle_tool_calls` function with \"hokey\" `if` statements (or fancy but equivalent `globals()` lookups) to route the tool calls. This is described as \"gunk.\"\n",
    "*   **The New, Simplified Approach:** The Agents SDK drastically simplifies this entire process without sacrificing flexibility.\n",
    "\n",
    "### Defining a Tool with the Agents SDK\n",
    "\n",
    "*   **The Function:** A new Python function, `send_email(email_body)`, is defined.\n",
    "    *   It contains boilerplate code to send an email using the SendGrid API.\n",
    "    *   **Crucially, it includes a docstring:** `\"Send out an email with the given body to all sales prospects.\"`\n",
    "    *   The function has placeholder emails for the \"from\" and \"to\" addresses. The \"from\" email must be the one verified in SendGrid. The \"to\" email should be changed by the user to avoid flooding the speaker's inbox.\n",
    "*   **The Magic Decorator:** Instead of writing JSON, the **`@function_tool` decorator** is placed directly above the `send_email` function definition.\n",
    "*   **What the Decorator Does:**\n",
    "    *   It automatically converts the Python function into a `FunctionTool` object.\n",
    "    *   The object's `description` is automatically populated from the function's **docstring**.\n",
    "    *   It introspects the function's signature and automatically generates the entire complex **`params_json_schema`** (the boilerplate JSON from Week 1) on the user's behalf.\n",
    "*   **Conclusion:** This demonstrates the power of a good framework. It removes all the tedious boilerplate work (`faffing around with JSON objects`) while leaving the developer in full control of the core logic."
   ]
  },
  {
   "cell_type": "markdown",
   "metadata": {},
   "source": [
    "--- \n",
    "\n",
    "## Converting Agents into Tools: Building Hierarchical AI systems \n",
    "\n",
    "### The Core Concept: Turning Agents into Tools\n",
    "\n",
    "*   **The New Idea:** The speaker introduces a \"confusing\" but powerful concept: in addition to turning a Python function into a tool, you can also turn an **entire agent** into a tool.\n",
    "*   **What it Means:**\n",
    "    *   An agent, which is a process that calls an LLM with a specific prompt (like the \"sales agent\"), can be packaged and treated as a single, callable tool.\n",
    "    *   This creates a **wrapper** around the agent. When this new \"agent tool\" is called, it triggers the underlying agent to execute its LLM call.\n",
    "*   **How to Do It:** The process is surprisingly simple. You just call the `.as_tool()` method on an existing agent object.\n",
    "\n",
    "### The Implementation: Creating Agent-Tools\n",
    "\n",
    "*   **Demonstration:**\n",
    "    *   The speaker takes `sales_agent_one` and calls `sales_agent_one.as_tool()`.\n",
    "    *   This method requires a `tool_name` and a `description` for the new tool.\n",
    "    *   The result is a `FunctionTool` object, identical in structure to the one created from a simple Python function earlier. It has a name, a description, and the automatically generated \"JSON gunk\" (the `params_json_schema`).\n",
    "    *   The key difference is that its internal function, when called, will execute the agent's run.\n",
    "*   **Creating Multiple Tools:**\n",
    "    *   The speaker explicitly (without a loop, for clarity) converts all three sales agents (`sales_agent_one`, `two`, and `three`) into three corresponding tools (`tool_one`, `two`, and `three`).\n",
    "    *   A final list, also named `tools`, is created. It contains **four** items: the three agent-as-tools, and the original `send_email` function-as-a-tool.\n",
    "\n",
    "### Creating a \"Sales Manager\" Planning Agent\n",
    "\n",
    "*   **The Goal:** To create a higher-level \"planning agent\" that orchestrates the other tools. This moves beyond a simple, hardcoded Python script to an agent that makes its own decisions.\n",
    "*   **Agent's Prompt/Instructions:**\n",
    "    *   **Role:** \"You are a sales manager working for ComplyAI.\"\n",
    "    *   **Core Directive:** \"You use the tools given to you to generate cold sales emails. You never generate sales emails yourself.\"\n",
    "    *   **Process:** \"You try all three tools once before choosing the best.\"\n",
    "    *   **Final Action:** \"You pick the single best email and use the Send Email tool to send the best email and only the best email to the user.\"\n",
    "*   **Instantiation and Execution:**\n",
    "    *   A new `sales_manager_agent` is created.\n",
    "    *   It is initialized with its instructions, the list of all **four** tools, and a model.\n",
    "    *   The agent is run with the simple prompt: \"send a cold sales email addressed to dear CEO.\"\n",
    "\n",
    "### Results and Tracing\n",
    "\n",
    "*   **Execution:** The run completes quickly (18 seconds).\n",
    "*   **Outcome 1: The Email:** The speaker confirms they received an email.\n",
    "    *   It's a well-formed sales email.\n",
    "    *   It correctly came from the verified sender address.\n",
    "    *   It intelligently replaced \"dear CEO\" with a placeholder like `[CEO's Name]`, showing a degree of templating awareness. An exercise to integrate proper mail merge is mentioned.\n",
    "*   **Outcome 2: The Trace:** The speaker examines the execution trace in the OpenAI platform.\n",
    "    *   The trace shows the `sales_manager` agent called four tools in sequence: `Sales Agent 1`, `Sales Agent 2`, `Sales Agent 3`, and finally `Send Email`.\n",
    "    *   Crucially, the trace visualizes the hierarchy. It shows that the calls to the \"sales agent\" tools were wrappers that, **underneath**, contained another agent call (e.g., the \"Professional Sales Agent\").\n",
    "    *   In contrast, the `send_email` tool call shows it was just a direct function call with a body parameter.\n",
    "*   **Conclusion:** This demonstrates a hierarchical system where a manager agent can decide the order in which to use other agents (wrapped as tools) to complete a complex task. The user is encouraged to study the trace to fully understand these interactions."
   ]
  },
  {
   "cell_type": "markdown",
   "metadata": {},
   "source": [
    "--- \n",
    "\n",
    "## Agent Control Flow: When to Use Handoffs vs. Agents as Tools \n",
    "\n",
    "### Recap of Agent Architectures\n",
    "\n",
    "The speaker begins by summarizing the architectures built so far:\n",
    "1.  **Simple Workflow:** Manually orchestrated agents in Python code, using `asyncio.gather` to run them in parallel, followed by a final \"picker\" agent.\n",
    "2.  **Agents with Tools:**\n",
    "    *   Wrapped a simple Python function (`send_email`) into a tool.\n",
    "    *   Wrapped entire agents (the three email writers) into tools using the `.as_tool()` method.\n",
    "    *   Provided all these tools to a \"sales manager\" agent, which decided which tools to use and when.\n",
    "\n",
    "---\n",
    "\n",
    "### Introducing the \"Handoff\" Concept\n",
    "\n",
    "This section introduces a new, similar, yet distinct construct for agent collaboration called a **handoff**.\n",
    "\n",
    "*   **Similarity to \"Agent as Tool\":** A handoff is a way for one agent to delegate tasks to another agent, which sounds very similar to wrapping an agent as a tool. An agent can be given a list of tools and a list of handoffs.\n",
    "*   **The Conceptual Difference:**\n",
    "    *   **Agent as Tool:** Think of this as an agent using a small, self-contained feature to help with its main job. It's like using a calculator.\n",
    "    *   **Handoff:** This is more like full delegation. The primary agent is giving complete responsibility and ownership of a specialized task to another agent. It's passing an entire job, not just using a feature.\n",
    "*   **The Key Technical Difference:**\n",
    "    *   **Agent as Tool:** This is a **request-response** model. The main agent calls the tool, waits for a response, and then **control passes back** to the main agent to continue its execution.\n",
    "    *   **Handoff:** This is a **one-way transfer of control**. The main agent does its part and then passes control to the other agent. The execution flow **does not come back** to the original agent.\n",
    "\n",
    "---\n",
    "\n",
    "### Building the Components for a Handoff Workflow\n",
    "\n",
    "To demonstrate this, a new workflow is constructed with several new agents and tools.\n",
    "\n",
    "1.  **New Agent: `subject_writer`**\n",
    "    *   **Purpose:** To write a compelling subject line for a given email body.\n",
    "    *   **Implementation:** It's created as an agent and then immediately converted into a **tool** using `.as_tool()`. This is because writing a subject is framed as a small, discrete task.\n",
    "\n",
    "2.  **New Agent: `html_converter`**\n",
    "    *   **Purpose:** To convert a plain-text email (which may contain Markdown) into a well-formatted HTML email.\n",
    "    *   **Implementation:** Like the subject writer, this agent is also converted into a **tool**.\n",
    "\n",
    "3.  **New Tool: `send_html_email`**\n",
    "    *   **Purpose:** A new version of the send email function that now accepts a `subject` and a `body` and sends the email as HTML.\n",
    "    *   **Implementation:** This is a standard Python function with an `@function_tool` decorator. It requires the user to update their verified sender email and the recipient email.\n",
    "\n",
    "---\n",
    "\n",
    "### Creating the Handoff Agent\n",
    "\n",
    "Now, the agent that will *receive* the handoff is created.\n",
    "\n",
    "*   **Agent Name:** `emailer_agent`\n",
    "*   **Purpose:** This agent's job is to format and send the final email.\n",
    "*   **Instructions (The agent's internal plan):**\n",
    "    1.  \"You receive the body of an email.\"\n",
    "    2.  \"You first use the `subject_writer` tool.\"\n",
    "    3.  \"Then [you use] the `html_converter` tool.\"\n",
    "    4.  \"Finally, you send the email.\"\n",
    "*   **Key New Property: `handoff_description`**\n",
    "    *   This agent is initialized with a `handoff_description`: `\"Convert an email to HTML and send it.\"`\n",
    "    *   This description is how the agent \"announces itself\" to other agents that might want to hand off to it. It's analogous to a tool's description.\n",
    "\n",
    "### Assembling the Final Structure\n",
    "\n",
    "The speaker clarifies the final setup before running it:\n",
    "*   **`tools` List:** This will contain the three original sales agents, each wrapped as a tool. These agents will generate the email content.\n",
    "*   **`handoffs` List:** This will contain the single `emailer_agent`.\n",
    "*   **The `emailer_agent`'s Internal Tools:** It's highlighted that the `emailer_agent` itself has its own list of three tools: the `subject_writer` tool, the `html_converter` tool, and the `send_html_email` tool.\n",
    "\n",
    "The user is encouraged to print these lists and objects to fully understand the nested, hierarchical structure before the final execution."
   ]
  },
  {
   "cell_type": "markdown",
   "metadata": {},
   "source": [
    "---  \n",
    "\n",
    "## Agentic AI for Business: Creating Interactive Sales Outreach Tools \n",
    "\n",
    "## From Function Calls to Agent Autonomy: Sales Automation with OpenAI SDK\n",
    "\n",
    "### The Final Workflow Execution\n",
    "\n",
    "*   **Moment of Truth:** The speaker runs the final, most complex agentic system.\n",
    "*   **The \"Sales Manager\" Agent's Instructions (Recap):**\n",
    "    *   **Role:** Sales Manager for \"ComplyAI\".\n",
    "    *   **Core Directive:** Must use tools to generate emails; never writes them itself.\n",
    "    *   **Process:** Try all three sales email agent-tools at least once. It can try them multiple times if the first results are unsatisfactory.\n",
    "    *   **Selection:** Use its own judgment to select the single best email.\n",
    "    *   **Final Action (The Handoff):** After picking the best email, it must **hand off** to the `emailer_agent` to format and send it.\n",
    "*   **The Crux of the Architecture:** The agent is initialized with both a list of `tools` (for request-response tasks) and a list of `handoffs` (for one-way delegation of control). This separation is the key to the design.\n",
    "*   **Execution and Result:** The process runs for about a minute. The final output is a short, crisp email that was selected by the manager.\n",
    "\n",
    "### Analyzing the Trace: Visualizing the Complex Workflow\n",
    "\n",
    "*   **The Trace:** The speaker examines the execution trace, named \"Automated SDR,\" which reveals the agent's decision-making process.\n",
    "*   **Key Observations:**\n",
    "    1.  The `sales_manager` first called each of the three sales agents once.\n",
    "    2.  It then decided to call them all a **second time**, demonstrating its autonomy to try again if not satisfied.\n",
    "    3.  After the six tool calls, the trace clearly shows a **handoff** to the `emailer_agent`.\n",
    "    4.  The `emailer_agent` then took control and executed its own internal sequence of tool calls: `subject_writer`, `html_converter`, and `send_email`.\n",
    "    5.  Crucially, the trace shows that after the handoff, control **did not return** to the original `sales_manager` agent. The `emailer_agent` completed the workflow.\n",
    "\n",
    "### Conclusion and Key Takeaways\n",
    "\n",
    "*   **Summary of Concepts:** The session covered orchestrating agents with simple Python, using tools for functions, wrapping agents as tools, and finally, using handoffs for delegation.\n",
    "*   **Main Takeaway:** The OpenAI Agents SDK is relatively simple and lightweight, yet it allows for the creation of complex and advanced agentic workflows in a short amount of time.\n",
    "\n",
    "### Exercises for the User\n",
    "\n",
    "The speaker provides several exercises to reinforce the learning.\n",
    "\n",
    "1.  **Identify Design Patterns:** Go back through the code and identify the specific agentic design patterns that were used. Pinpoint the exact moment the system transitioned from a simple \"agent workflow\" to a true \"agentic agent\" with autonomy.\n",
    "2.  **Extend the System:** Add more tools and agents. The system is designed to be easily extensible. The speaker notes that calling it an \"SDR\" is a stretch; it's currently just a cold email writer, but it could be built into something more interactive.\n",
    "3.  **Hard Challenge (Long-Lived Agent):** For those with engineering experience, figure out how to handle replies to the emails. This would involve:\n",
    "    *   Researching how to use **webhooks** with SendGrid to receive replies.\n",
    "    *   Triggering the agent workflow based on an incoming email.\n",
    "    *   Managing conversation state to identify the original context.\n",
    "    *   This is presented as more of an engineering challenge than an agentic one.\n",
    "\n",
    "### Commercial Applications\n",
    "\n",
    "*   **Direct Application:** The project itself could be the basis for a sales automation tool that generates email campaigns and even engages in conversations (if the hard challenge is completed).\n",
    "*   **General Applicability:** The core point is that this approach can be applied to automate **any end-to-end business process**.\n",
    "*   **Other Examples:** The speaker suggests other contexts, such as their own day job in **recruitment** at Nebula, which involves similar large-scale outreach activities.\n",
    "*   **Final Thought:** The user is encouraged to think of any business area with high-volume, repeatable activities and imagine how a system of collaborating agents with autonomy, tools, and handoffs could automate that complex process."
   ]
  },
  {
   "cell_type": "markdown",
   "metadata": {},
   "source": [
    "--- \n",
    "\n",
    "### Call for Community Contributions\n",
    "\n",
    "*   The speaker encourages students who build the more advanced, interactive version of the sales outreach agent (the \"hard challenge\" that can handle email replies) to share their work.\n",
    "*   **How to Share:**\n",
    "    1.  **Community Contributions Folder:** There is a specific folder in the week two materials for community contributions. Students should submit their code there via a Pull Request (PR), with instructions available in the class resources. This allows the speaker and other students to see the work.\n",
    "    2.  **LinkedIn:** The speaker recommends the \"great trick\" of posting projects on LinkedIn and tagging the speaker. This helps amplify the student's work, allows the speaker to provide feedback, and shows a wider audience how agentic AI is being applied to business problems.\n",
    "\n",
    "### Preview of the Next Session\n",
    "\n",
    "*   After congratulating the students on completing the project and learning about the OpenAI Agents SDK, the speaker provides a preview of the next lecture.\n",
    "*   **Topics to be Covered:**\n",
    "    1.  **Revisiting Tools vs. Agents:** The discussion on the distinctions between tools and agents will be revisited one more time.\n",
    "    2.  **Guardrails:** The next session will introduce the \"super important\" topic of guardrails, which are methods for putting controls around what the agents are doing.\n",
    "    3.  **New Larger Project:** A larger project will be started."
   ]
  },
  {
   "cell_type": "markdown",
   "metadata": {},
   "source": []
  }
 ],
 "metadata": {
  "kernelspec": {
   "display_name": "agents",
   "language": "python",
   "name": "python3"
  },
  "language_info": {
   "codemirror_mode": {
    "name": "ipython",
    "version": 3
   },
   "file_extension": ".py",
   "mimetype": "text/x-python",
   "name": "python",
   "nbconvert_exporter": "python",
   "pygments_lexer": "ipython3",
   "version": "3.12.11"
  }
 },
 "nbformat": 4,
 "nbformat_minor": 2
}
